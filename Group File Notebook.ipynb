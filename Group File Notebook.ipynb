{
 "cells": [
  {
   "cell_type": "markdown",
   "id": "c3d79bd8",
   "metadata": {},
   "source": [
    "# Shinkansen Travel Data Statistics Project"
   ]
  },
  {
   "cell_type": "markdown",
   "id": "eacd162d-111f-4114-b9ac-9d42df51ddae",
   "metadata": {},
   "source": [
    "## Data Processing"
   ]
  },
  {
   "cell_type": "code",
   "execution_count": 1,
   "id": "a325ec5a-e67e-43c0-93b4-c937187f9acb",
   "metadata": {},
   "outputs": [],
   "source": [
    "options(warn=-1)"
   ]
  },
  {
   "cell_type": "code",
   "execution_count": 2,
   "id": "f8bfee45-36e2-4ebc-8df4-b276cb71d706",
   "metadata": {},
   "outputs": [
    {
     "name": "stderr",
     "output_type": "stream",
     "text": [
      "Installing package into ‘/home/jupyter/R/x86_64-pc-linux-gnu-library/4.3’\n",
      "(as ‘lib’ is unspecified)\n",
      "\n"
     ]
    }
   ],
   "source": [
    "install.packages(\"MASS\")"
   ]
  },
  {
   "cell_type": "code",
   "execution_count": 3,
   "id": "204dd7bf-ef1f-42b1-a0fa-4ce7edf065ae",
   "metadata": {},
   "outputs": [
    {
     "name": "stderr",
     "output_type": "stream",
     "text": [
      "\n",
      "Attaching package: ‘dplyr’\n",
      "\n",
      "\n",
      "The following objects are masked from ‘package:stats’:\n",
      "\n",
      "    filter, lag\n",
      "\n",
      "\n",
      "The following objects are masked from ‘package:base’:\n",
      "\n",
      "    intersect, setdiff, setequal, union\n",
      "\n",
      "\n",
      "Loading required package: Matrix\n",
      "\n",
      "Loaded glmnet 4.1-8\n",
      "\n",
      "\n",
      "Attaching package: ‘MASS’\n",
      "\n",
      "\n",
      "The following object is masked from ‘package:dplyr’:\n",
      "\n",
      "    select\n",
      "\n",
      "\n"
     ]
    }
   ],
   "source": [
    "library(ggplot2)\n",
    "library(dplyr)\n",
    "library(reshape2)\n",
    "library(glmnet)\n",
    "library(MASS)"
   ]
  },
  {
   "cell_type": "code",
   "execution_count": 4,
   "id": "5cd37b26",
   "metadata": {},
   "outputs": [
    {
     "data": {
      "text/html": [
       "<table class=\"dataframe\">\n",
       "<caption>A data.frame: 6 × 25</caption>\n",
       "<thead>\n",
       "\t<tr><th></th><th scope=col>ID</th><th scope=col>Overall_Experience</th><th scope=col>Seat_comfort</th><th scope=col>Seat_Class</th><th scope=col>Arrival_time_convenient</th><th scope=col>Catering</th><th scope=col>Platform_location</th><th scope=col>Onboardwifi_service</th><th scope=col>Onboard_entertainment</th><th scope=col>Online_support</th><th scope=col>⋯</th><th scope=col>Cleanliness</th><th scope=col>Online_boarding</th><th scope=col>Gender</th><th scope=col>CustomerType</th><th scope=col>Age</th><th scope=col>TypeTravel</th><th scope=col>Travel_Class</th><th scope=col>Travel_Distance</th><th scope=col>DepartureDelay_in_Mins</th><th scope=col>ArrivalDelay_in_Mins</th></tr>\n",
       "\t<tr><th></th><th scope=col>&lt;int&gt;</th><th scope=col>&lt;fct&gt;</th><th scope=col>&lt;fct&gt;</th><th scope=col>&lt;fct&gt;</th><th scope=col>&lt;fct&gt;</th><th scope=col>&lt;fct&gt;</th><th scope=col>&lt;fct&gt;</th><th scope=col>&lt;fct&gt;</th><th scope=col>&lt;fct&gt;</th><th scope=col>&lt;fct&gt;</th><th scope=col>⋯</th><th scope=col>&lt;fct&gt;</th><th scope=col>&lt;fct&gt;</th><th scope=col>&lt;fct&gt;</th><th scope=col>&lt;fct&gt;</th><th scope=col>&lt;int&gt;</th><th scope=col>&lt;fct&gt;</th><th scope=col>&lt;fct&gt;</th><th scope=col>&lt;int&gt;</th><th scope=col>&lt;int&gt;</th><th scope=col>&lt;int&gt;</th></tr>\n",
       "</thead>\n",
       "<tbody>\n",
       "\t<tr><th scope=row>1</th><td>98800001</td><td>0</td><td>need improvement</td><td>Green Car</td><td>excellent       </td><td>excellent       </td><td>very convinient </td><td>good            </td><td>need improvement</td><td>acceptable</td><td>⋯</td><td>need improvement</td><td>poor      </td><td>Female</td><td>Loyal Customer</td><td>52</td><td>               </td><td>Business</td><td> 272</td><td> 0</td><td>  5</td></tr>\n",
       "\t<tr><th scope=row>2</th><td>98800002</td><td>0</td><td>poor            </td><td>Ordinary </td><td>excellent       </td><td>poor            </td><td>need improvement</td><td>good            </td><td>poor            </td><td>good      </td><td>⋯</td><td>good            </td><td>good      </td><td>Male  </td><td>Loyal Customer</td><td>48</td><td>Personal Travel</td><td>Eco     </td><td>2200</td><td> 9</td><td>  0</td></tr>\n",
       "\t<tr><th scope=row>3</th><td>98800003</td><td>1</td><td>need improvement</td><td>Green Car</td><td>need improvement</td><td>need improvement</td><td>need improvement</td><td>need improvement</td><td>good            </td><td>excellent </td><td>⋯</td><td>excellent       </td><td>excellent </td><td>Female</td><td>Loyal Customer</td><td>43</td><td>Business travel</td><td>Business</td><td>1061</td><td>77</td><td>119</td></tr>\n",
       "\t<tr><th scope=row>4</th><td>98800004</td><td>0</td><td>acceptable      </td><td>Ordinary </td><td>need improvement</td><td>                </td><td>need improvement</td><td>acceptable      </td><td>need improvement</td><td>acceptable</td><td>⋯</td><td>acceptable      </td><td>acceptable</td><td>Female</td><td>Loyal Customer</td><td>44</td><td>Business travel</td><td>Business</td><td> 780</td><td>13</td><td> 18</td></tr>\n",
       "\t<tr><th scope=row>5</th><td>98800005</td><td>1</td><td>acceptable      </td><td>Ordinary </td><td>acceptable      </td><td>acceptable      </td><td>manageable      </td><td>need improvement</td><td>good            </td><td>excellent </td><td>⋯</td><td>good            </td><td>good      </td><td>Female</td><td>Loyal Customer</td><td>50</td><td>Business travel</td><td>Business</td><td>1981</td><td> 0</td><td>  0</td></tr>\n",
       "\t<tr><th scope=row>6</th><td>98800006</td><td>1</td><td>need improvement</td><td>Ordinary </td><td>need improvement</td><td>acceptable      </td><td>need improvement</td><td>good            </td><td>excellent       </td><td>good      </td><td>⋯</td><td>acceptable      </td><td>acceptable</td><td>Male  </td><td>Loyal Customer</td><td>44</td><td>Business travel</td><td>Business</td><td>2810</td><td> 0</td><td>  0</td></tr>\n",
       "</tbody>\n",
       "</table>\n"
      ],
      "text/latex": [
       "A data.frame: 6 × 25\n",
       "\\begin{tabular}{r|lllllllllllllllllllll}\n",
       "  & ID & Overall\\_Experience & Seat\\_comfort & Seat\\_Class & Arrival\\_time\\_convenient & Catering & Platform\\_location & Onboardwifi\\_service & Onboard\\_entertainment & Online\\_support & ⋯ & Cleanliness & Online\\_boarding & Gender & CustomerType & Age & TypeTravel & Travel\\_Class & Travel\\_Distance & DepartureDelay\\_in\\_Mins & ArrivalDelay\\_in\\_Mins\\\\\n",
       "  & <int> & <fct> & <fct> & <fct> & <fct> & <fct> & <fct> & <fct> & <fct> & <fct> & ⋯ & <fct> & <fct> & <fct> & <fct> & <int> & <fct> & <fct> & <int> & <int> & <int>\\\\\n",
       "\\hline\n",
       "\t1 & 98800001 & 0 & need improvement & Green Car & excellent        & excellent        & very convinient  & good             & need improvement & acceptable & ⋯ & need improvement & poor       & Female & Loyal Customer & 52 &                 & Business &  272 &  0 &   5\\\\\n",
       "\t2 & 98800002 & 0 & poor             & Ordinary  & excellent        & poor             & need improvement & good             & poor             & good       & ⋯ & good             & good       & Male   & Loyal Customer & 48 & Personal Travel & Eco      & 2200 &  9 &   0\\\\\n",
       "\t3 & 98800003 & 1 & need improvement & Green Car & need improvement & need improvement & need improvement & need improvement & good             & excellent  & ⋯ & excellent        & excellent  & Female & Loyal Customer & 43 & Business travel & Business & 1061 & 77 & 119\\\\\n",
       "\t4 & 98800004 & 0 & acceptable       & Ordinary  & need improvement &                  & need improvement & acceptable       & need improvement & acceptable & ⋯ & acceptable       & acceptable & Female & Loyal Customer & 44 & Business travel & Business &  780 & 13 &  18\\\\\n",
       "\t5 & 98800005 & 1 & acceptable       & Ordinary  & acceptable       & acceptable       & manageable       & need improvement & good             & excellent  & ⋯ & good             & good       & Female & Loyal Customer & 50 & Business travel & Business & 1981 &  0 &   0\\\\\n",
       "\t6 & 98800006 & 1 & need improvement & Ordinary  & need improvement & acceptable       & need improvement & good             & excellent        & good       & ⋯ & acceptable       & acceptable & Male   & Loyal Customer & 44 & Business travel & Business & 2810 &  0 &   0\\\\\n",
       "\\end{tabular}\n"
      ],
      "text/markdown": [
       "\n",
       "A data.frame: 6 × 25\n",
       "\n",
       "| <!--/--> | ID &lt;int&gt; | Overall_Experience &lt;fct&gt; | Seat_comfort &lt;fct&gt; | Seat_Class &lt;fct&gt; | Arrival_time_convenient &lt;fct&gt; | Catering &lt;fct&gt; | Platform_location &lt;fct&gt; | Onboardwifi_service &lt;fct&gt; | Onboard_entertainment &lt;fct&gt; | Online_support &lt;fct&gt; | ⋯ ⋯ | Cleanliness &lt;fct&gt; | Online_boarding &lt;fct&gt; | Gender &lt;fct&gt; | CustomerType &lt;fct&gt; | Age &lt;int&gt; | TypeTravel &lt;fct&gt; | Travel_Class &lt;fct&gt; | Travel_Distance &lt;int&gt; | DepartureDelay_in_Mins &lt;int&gt; | ArrivalDelay_in_Mins &lt;int&gt; |\n",
       "|---|---|---|---|---|---|---|---|---|---|---|---|---|---|---|---|---|---|---|---|---|---|\n",
       "| 1 | 98800001 | 0 | need improvement | Green Car | excellent        | excellent        | very convinient  | good             | need improvement | acceptable | ⋯ | need improvement | poor       | Female | Loyal Customer | 52 | <!----> | Business |  272 |  0 |   5 |\n",
       "| 2 | 98800002 | 0 | poor             | Ordinary  | excellent        | poor             | need improvement | good             | poor             | good       | ⋯ | good             | good       | Male   | Loyal Customer | 48 | Personal Travel | Eco      | 2200 |  9 |   0 |\n",
       "| 3 | 98800003 | 1 | need improvement | Green Car | need improvement | need improvement | need improvement | need improvement | good             | excellent  | ⋯ | excellent        | excellent  | Female | Loyal Customer | 43 | Business travel | Business | 1061 | 77 | 119 |\n",
       "| 4 | 98800004 | 0 | acceptable       | Ordinary  | need improvement | <!----> | need improvement | acceptable       | need improvement | acceptable | ⋯ | acceptable       | acceptable | Female | Loyal Customer | 44 | Business travel | Business |  780 | 13 |  18 |\n",
       "| 5 | 98800005 | 1 | acceptable       | Ordinary  | acceptable       | acceptable       | manageable       | need improvement | good             | excellent  | ⋯ | good             | good       | Female | Loyal Customer | 50 | Business travel | Business | 1981 |  0 |   0 |\n",
       "| 6 | 98800006 | 1 | need improvement | Ordinary  | need improvement | acceptable       | need improvement | good             | excellent        | good       | ⋯ | acceptable       | acceptable | Male   | Loyal Customer | 44 | Business travel | Business | 2810 |  0 |   0 |\n",
       "\n"
      ],
      "text/plain": [
       "  ID       Overall_Experience Seat_comfort     Seat_Class\n",
       "1 98800001 0                  need improvement Green Car \n",
       "2 98800002 0                  poor             Ordinary  \n",
       "3 98800003 1                  need improvement Green Car \n",
       "4 98800004 0                  acceptable       Ordinary  \n",
       "5 98800005 1                  acceptable       Ordinary  \n",
       "6 98800006 1                  need improvement Ordinary  \n",
       "  Arrival_time_convenient Catering         Platform_location\n",
       "1 excellent               excellent        very convinient  \n",
       "2 excellent               poor             need improvement \n",
       "3 need improvement        need improvement need improvement \n",
       "4 need improvement                         need improvement \n",
       "5 acceptable              acceptable       manageable       \n",
       "6 need improvement        acceptable       need improvement \n",
       "  Onboardwifi_service Onboard_entertainment Online_support ⋯ Cleanliness     \n",
       "1 good                need improvement      acceptable     ⋯ need improvement\n",
       "2 good                poor                  good           ⋯ good            \n",
       "3 need improvement    good                  excellent      ⋯ excellent       \n",
       "4 acceptable          need improvement      acceptable     ⋯ acceptable      \n",
       "5 need improvement    good                  excellent      ⋯ good            \n",
       "6 good                excellent             good           ⋯ acceptable      \n",
       "  Online_boarding Gender CustomerType   Age TypeTravel      Travel_Class\n",
       "1 poor            Female Loyal Customer 52                  Business    \n",
       "2 good            Male   Loyal Customer 48  Personal Travel Eco         \n",
       "3 excellent       Female Loyal Customer 43  Business travel Business    \n",
       "4 acceptable      Female Loyal Customer 44  Business travel Business    \n",
       "5 good            Female Loyal Customer 50  Business travel Business    \n",
       "6 acceptable      Male   Loyal Customer 44  Business travel Business    \n",
       "  Travel_Distance DepartureDelay_in_Mins ArrivalDelay_in_Mins\n",
       "1  272             0                       5                 \n",
       "2 2200             9                       0                 \n",
       "3 1061            77                     119                 \n",
       "4  780            13                      18                 \n",
       "5 1981             0                       0                 \n",
       "6 2810             0                       0                 "
      ]
     },
     "metadata": {},
     "output_type": "display_data"
    }
   ],
   "source": [
    "travel <- read.csv(\"TravelTrain.csv\", header=T, sep=\",\")\n",
    "survey <- read.csv(\"SurveyTrain.csv\", header=T, sep=\",\")\n",
    "full <- merge(survey,travel,by.x=\"ID\",by.y=\"ID\")\n",
    "nonfactors = c(\"ID\", \"Age\", \"Travel_Distance\", \"DepartureDelay_in_Mins\", \"ArrivalDelay_in_Mins\")\n",
    "factors = -which(names(full) %in% nonfactors)\n",
    "full[, factors] = lapply(full[, factors], as.factor)\n",
    "head(full)"
   ]
  },
  {
   "cell_type": "code",
   "execution_count": 5,
   "id": "cf486b2c-2080-454f-b5a9-d54c38dee574",
   "metadata": {},
   "outputs": [
    {
     "data": {
      "text/html": [
       "390"
      ],
      "text/latex": [
       "390"
      ],
      "text/markdown": [
       "390"
      ],
      "text/plain": [
       "[1] 390"
      ]
     },
     "metadata": {},
     "output_type": "display_data"
    }
   ],
   "source": [
    "num_rows_with_na <- sum(apply(full, 1, function(row) any(is.na(row))))\n",
    "num_rows_with_na"
   ]
  },
  {
   "cell_type": "code",
   "execution_count": 6,
   "id": "ca876ce0-b2fa-4b3f-bf39-ce3b8b38a2b4",
   "metadata": {},
   "outputs": [
    {
     "data": {
      "text/html": [
       "<table class=\"dataframe\">\n",
       "<caption>A data.frame: 6 × 25</caption>\n",
       "<thead>\n",
       "\t<tr><th></th><th scope=col>ID</th><th scope=col>Overall_Experience</th><th scope=col>Seat_comfort</th><th scope=col>Seat_Class</th><th scope=col>Arrival_time_convenient</th><th scope=col>Catering</th><th scope=col>Platform_location</th><th scope=col>Onboardwifi_service</th><th scope=col>Onboard_entertainment</th><th scope=col>Online_support</th><th scope=col>⋯</th><th scope=col>Cleanliness</th><th scope=col>Online_boarding</th><th scope=col>Gender</th><th scope=col>CustomerType</th><th scope=col>Age</th><th scope=col>TypeTravel</th><th scope=col>Travel_Class</th><th scope=col>Travel_Distance</th><th scope=col>DepartureDelay_in_Mins</th><th scope=col>ArrivalDelay_in_Mins</th></tr>\n",
       "\t<tr><th></th><th scope=col>&lt;int&gt;</th><th scope=col>&lt;fct&gt;</th><th scope=col>&lt;fct&gt;</th><th scope=col>&lt;fct&gt;</th><th scope=col>&lt;fct&gt;</th><th scope=col>&lt;fct&gt;</th><th scope=col>&lt;fct&gt;</th><th scope=col>&lt;fct&gt;</th><th scope=col>&lt;fct&gt;</th><th scope=col>&lt;fct&gt;</th><th scope=col>⋯</th><th scope=col>&lt;fct&gt;</th><th scope=col>&lt;fct&gt;</th><th scope=col>&lt;fct&gt;</th><th scope=col>&lt;fct&gt;</th><th scope=col>&lt;int&gt;</th><th scope=col>&lt;fct&gt;</th><th scope=col>&lt;fct&gt;</th><th scope=col>&lt;int&gt;</th><th scope=col>&lt;int&gt;</th><th scope=col>&lt;int&gt;</th></tr>\n",
       "</thead>\n",
       "<tbody>\n",
       "\t<tr><th scope=row>1</th><td>98800001</td><td>0</td><td>need improvement</td><td>Green Car</td><td>excellent       </td><td>excellent       </td><td>very convinient </td><td>good            </td><td>need improvement</td><td>acceptable</td><td>⋯</td><td>need improvement</td><td>poor      </td><td>Female</td><td>Loyal Customer</td><td>52</td><td>               </td><td>Business</td><td> 272</td><td> 0</td><td>  5</td></tr>\n",
       "\t<tr><th scope=row>2</th><td>98800002</td><td>0</td><td>poor            </td><td>Ordinary </td><td>excellent       </td><td>poor            </td><td>need improvement</td><td>good            </td><td>poor            </td><td>good      </td><td>⋯</td><td>good            </td><td>good      </td><td>Male  </td><td>Loyal Customer</td><td>48</td><td>Personal Travel</td><td>Eco     </td><td>2200</td><td> 9</td><td>  0</td></tr>\n",
       "\t<tr><th scope=row>3</th><td>98800003</td><td>1</td><td>need improvement</td><td>Green Car</td><td>need improvement</td><td>need improvement</td><td>need improvement</td><td>need improvement</td><td>good            </td><td>excellent </td><td>⋯</td><td>excellent       </td><td>excellent </td><td>Female</td><td>Loyal Customer</td><td>43</td><td>Business travel</td><td>Business</td><td>1061</td><td>77</td><td>119</td></tr>\n",
       "\t<tr><th scope=row>4</th><td>98800004</td><td>0</td><td>acceptable      </td><td>Ordinary </td><td>need improvement</td><td>                </td><td>need improvement</td><td>acceptable      </td><td>need improvement</td><td>acceptable</td><td>⋯</td><td>acceptable      </td><td>acceptable</td><td>Female</td><td>Loyal Customer</td><td>44</td><td>Business travel</td><td>Business</td><td> 780</td><td>13</td><td> 18</td></tr>\n",
       "\t<tr><th scope=row>5</th><td>98800005</td><td>1</td><td>acceptable      </td><td>Ordinary </td><td>acceptable      </td><td>acceptable      </td><td>manageable      </td><td>need improvement</td><td>good            </td><td>excellent </td><td>⋯</td><td>good            </td><td>good      </td><td>Female</td><td>Loyal Customer</td><td>50</td><td>Business travel</td><td>Business</td><td>1981</td><td> 0</td><td>  0</td></tr>\n",
       "\t<tr><th scope=row>6</th><td>98800006</td><td>1</td><td>need improvement</td><td>Ordinary </td><td>need improvement</td><td>acceptable      </td><td>need improvement</td><td>good            </td><td>excellent       </td><td>good      </td><td>⋯</td><td>acceptable      </td><td>acceptable</td><td>Male  </td><td>Loyal Customer</td><td>44</td><td>Business travel</td><td>Business</td><td>2810</td><td> 0</td><td>  0</td></tr>\n",
       "</tbody>\n",
       "</table>\n"
      ],
      "text/latex": [
       "A data.frame: 6 × 25\n",
       "\\begin{tabular}{r|lllllllllllllllllllll}\n",
       "  & ID & Overall\\_Experience & Seat\\_comfort & Seat\\_Class & Arrival\\_time\\_convenient & Catering & Platform\\_location & Onboardwifi\\_service & Onboard\\_entertainment & Online\\_support & ⋯ & Cleanliness & Online\\_boarding & Gender & CustomerType & Age & TypeTravel & Travel\\_Class & Travel\\_Distance & DepartureDelay\\_in\\_Mins & ArrivalDelay\\_in\\_Mins\\\\\n",
       "  & <int> & <fct> & <fct> & <fct> & <fct> & <fct> & <fct> & <fct> & <fct> & <fct> & ⋯ & <fct> & <fct> & <fct> & <fct> & <int> & <fct> & <fct> & <int> & <int> & <int>\\\\\n",
       "\\hline\n",
       "\t1 & 98800001 & 0 & need improvement & Green Car & excellent        & excellent        & very convinient  & good             & need improvement & acceptable & ⋯ & need improvement & poor       & Female & Loyal Customer & 52 &                 & Business &  272 &  0 &   5\\\\\n",
       "\t2 & 98800002 & 0 & poor             & Ordinary  & excellent        & poor             & need improvement & good             & poor             & good       & ⋯ & good             & good       & Male   & Loyal Customer & 48 & Personal Travel & Eco      & 2200 &  9 &   0\\\\\n",
       "\t3 & 98800003 & 1 & need improvement & Green Car & need improvement & need improvement & need improvement & need improvement & good             & excellent  & ⋯ & excellent        & excellent  & Female & Loyal Customer & 43 & Business travel & Business & 1061 & 77 & 119\\\\\n",
       "\t4 & 98800004 & 0 & acceptable       & Ordinary  & need improvement &                  & need improvement & acceptable       & need improvement & acceptable & ⋯ & acceptable       & acceptable & Female & Loyal Customer & 44 & Business travel & Business &  780 & 13 &  18\\\\\n",
       "\t5 & 98800005 & 1 & acceptable       & Ordinary  & acceptable       & acceptable       & manageable       & need improvement & good             & excellent  & ⋯ & good             & good       & Female & Loyal Customer & 50 & Business travel & Business & 1981 &  0 &   0\\\\\n",
       "\t6 & 98800006 & 1 & need improvement & Ordinary  & need improvement & acceptable       & need improvement & good             & excellent        & good       & ⋯ & acceptable       & acceptable & Male   & Loyal Customer & 44 & Business travel & Business & 2810 &  0 &   0\\\\\n",
       "\\end{tabular}\n"
      ],
      "text/markdown": [
       "\n",
       "A data.frame: 6 × 25\n",
       "\n",
       "| <!--/--> | ID &lt;int&gt; | Overall_Experience &lt;fct&gt; | Seat_comfort &lt;fct&gt; | Seat_Class &lt;fct&gt; | Arrival_time_convenient &lt;fct&gt; | Catering &lt;fct&gt; | Platform_location &lt;fct&gt; | Onboardwifi_service &lt;fct&gt; | Onboard_entertainment &lt;fct&gt; | Online_support &lt;fct&gt; | ⋯ ⋯ | Cleanliness &lt;fct&gt; | Online_boarding &lt;fct&gt; | Gender &lt;fct&gt; | CustomerType &lt;fct&gt; | Age &lt;int&gt; | TypeTravel &lt;fct&gt; | Travel_Class &lt;fct&gt; | Travel_Distance &lt;int&gt; | DepartureDelay_in_Mins &lt;int&gt; | ArrivalDelay_in_Mins &lt;int&gt; |\n",
       "|---|---|---|---|---|---|---|---|---|---|---|---|---|---|---|---|---|---|---|---|---|---|\n",
       "| 1 | 98800001 | 0 | need improvement | Green Car | excellent        | excellent        | very convinient  | good             | need improvement | acceptable | ⋯ | need improvement | poor       | Female | Loyal Customer | 52 | <!----> | Business |  272 |  0 |   5 |\n",
       "| 2 | 98800002 | 0 | poor             | Ordinary  | excellent        | poor             | need improvement | good             | poor             | good       | ⋯ | good             | good       | Male   | Loyal Customer | 48 | Personal Travel | Eco      | 2200 |  9 |   0 |\n",
       "| 3 | 98800003 | 1 | need improvement | Green Car | need improvement | need improvement | need improvement | need improvement | good             | excellent  | ⋯ | excellent        | excellent  | Female | Loyal Customer | 43 | Business travel | Business | 1061 | 77 | 119 |\n",
       "| 4 | 98800004 | 0 | acceptable       | Ordinary  | need improvement | <!----> | need improvement | acceptable       | need improvement | acceptable | ⋯ | acceptable       | acceptable | Female | Loyal Customer | 44 | Business travel | Business |  780 | 13 |  18 |\n",
       "| 5 | 98800005 | 1 | acceptable       | Ordinary  | acceptable       | acceptable       | manageable       | need improvement | good             | excellent  | ⋯ | good             | good       | Female | Loyal Customer | 50 | Business travel | Business | 1981 |  0 |   0 |\n",
       "| 6 | 98800006 | 1 | need improvement | Ordinary  | need improvement | acceptable       | need improvement | good             | excellent        | good       | ⋯ | acceptable       | acceptable | Male   | Loyal Customer | 44 | Business travel | Business | 2810 |  0 |   0 |\n",
       "\n"
      ],
      "text/plain": [
       "  ID       Overall_Experience Seat_comfort     Seat_Class\n",
       "1 98800001 0                  need improvement Green Car \n",
       "2 98800002 0                  poor             Ordinary  \n",
       "3 98800003 1                  need improvement Green Car \n",
       "4 98800004 0                  acceptable       Ordinary  \n",
       "5 98800005 1                  acceptable       Ordinary  \n",
       "6 98800006 1                  need improvement Ordinary  \n",
       "  Arrival_time_convenient Catering         Platform_location\n",
       "1 excellent               excellent        very convinient  \n",
       "2 excellent               poor             need improvement \n",
       "3 need improvement        need improvement need improvement \n",
       "4 need improvement                         need improvement \n",
       "5 acceptable              acceptable       manageable       \n",
       "6 need improvement        acceptable       need improvement \n",
       "  Onboardwifi_service Onboard_entertainment Online_support ⋯ Cleanliness     \n",
       "1 good                need improvement      acceptable     ⋯ need improvement\n",
       "2 good                poor                  good           ⋯ good            \n",
       "3 need improvement    good                  excellent      ⋯ excellent       \n",
       "4 acceptable          need improvement      acceptable     ⋯ acceptable      \n",
       "5 need improvement    good                  excellent      ⋯ good            \n",
       "6 good                excellent             good           ⋯ acceptable      \n",
       "  Online_boarding Gender CustomerType   Age TypeTravel      Travel_Class\n",
       "1 poor            Female Loyal Customer 52                  Business    \n",
       "2 good            Male   Loyal Customer 48  Personal Travel Eco         \n",
       "3 excellent       Female Loyal Customer 43  Business travel Business    \n",
       "4 acceptable      Female Loyal Customer 44  Business travel Business    \n",
       "5 good            Female Loyal Customer 50  Business travel Business    \n",
       "6 acceptable      Male   Loyal Customer 44  Business travel Business    \n",
       "  Travel_Distance DepartureDelay_in_Mins ArrivalDelay_in_Mins\n",
       "1  272             0                       5                 \n",
       "2 2200             9                       0                 \n",
       "3 1061            77                     119                 \n",
       "4  780            13                      18                 \n",
       "5 1981             0                       0                 \n",
       "6 2810             0                       0                 "
      ]
     },
     "metadata": {},
     "output_type": "display_data"
    }
   ],
   "source": [
    "full_complete <- na.omit(full)\n",
    "head(full_complete)"
   ]
  },
  {
   "cell_type": "code",
   "execution_count": 7,
   "id": "a457d8fb-f8f1-4aa9-9add-0293dc531fca",
   "metadata": {},
   "outputs": [
    {
     "data": {
      "text/html": [
       "0"
      ],
      "text/latex": [
       "0"
      ],
      "text/markdown": [
       "0"
      ],
      "text/plain": [
       "[1] 0"
      ]
     },
     "metadata": {},
     "output_type": "display_data"
    }
   ],
   "source": [
    "num_rows_with_na <- sum(apply(full_complete, 1, function(row) any(is.na(row))))\n",
    "num_rows_with_na"
   ]
  },
  {
   "cell_type": "code",
   "execution_count": 8,
   "id": "7b4be2b0-2d32-4a0b-9dca-70608cebbbad",
   "metadata": {},
   "outputs": [
    {
     "data": {
      "text/html": [
       "<table class=\"dataframe\">\n",
       "<caption>A data.frame: 6 × 24</caption>\n",
       "<thead>\n",
       "\t<tr><th></th><th scope=col>Overall_Experience</th><th scope=col>Seat_comfort</th><th scope=col>Seat_Class</th><th scope=col>Arrival_time_convenient</th><th scope=col>Catering</th><th scope=col>Platform_location</th><th scope=col>Onboardwifi_service</th><th scope=col>Onboard_entertainment</th><th scope=col>Online_support</th><th scope=col>Onlinebooking_Ease</th><th scope=col>⋯</th><th scope=col>Cleanliness</th><th scope=col>Online_boarding</th><th scope=col>Gender</th><th scope=col>CustomerType</th><th scope=col>Age</th><th scope=col>TypeTravel</th><th scope=col>Travel_Class</th><th scope=col>Travel_Distance</th><th scope=col>DepartureDelay_in_Mins</th><th scope=col>ArrivalDelay_in_Mins</th></tr>\n",
       "\t<tr><th></th><th scope=col>&lt;fct&gt;</th><th scope=col>&lt;fct&gt;</th><th scope=col>&lt;fct&gt;</th><th scope=col>&lt;fct&gt;</th><th scope=col>&lt;fct&gt;</th><th scope=col>&lt;fct&gt;</th><th scope=col>&lt;fct&gt;</th><th scope=col>&lt;fct&gt;</th><th scope=col>&lt;fct&gt;</th><th scope=col>&lt;fct&gt;</th><th scope=col>⋯</th><th scope=col>&lt;fct&gt;</th><th scope=col>&lt;fct&gt;</th><th scope=col>&lt;fct&gt;</th><th scope=col>&lt;fct&gt;</th><th scope=col>&lt;int&gt;</th><th scope=col>&lt;fct&gt;</th><th scope=col>&lt;fct&gt;</th><th scope=col>&lt;int&gt;</th><th scope=col>&lt;int&gt;</th><th scope=col>&lt;int&gt;</th></tr>\n",
       "</thead>\n",
       "<tbody>\n",
       "\t<tr><th scope=row>1</th><td>0</td><td>need improvement</td><td>Green Car</td><td>excellent       </td><td>excellent       </td><td>very convinient </td><td>good            </td><td>need improvement</td><td>acceptable</td><td>need improvement</td><td>⋯</td><td>need improvement</td><td>poor      </td><td>Female</td><td>Loyal Customer</td><td>52</td><td>               </td><td>Business</td><td> 272</td><td> 0</td><td>  5</td></tr>\n",
       "\t<tr><th scope=row>2</th><td>0</td><td>poor            </td><td>Ordinary </td><td>excellent       </td><td>poor            </td><td>need improvement</td><td>good            </td><td>poor            </td><td>good      </td><td>good            </td><td>⋯</td><td>good            </td><td>good      </td><td>Male  </td><td>Loyal Customer</td><td>48</td><td>Personal Travel</td><td>Eco     </td><td>2200</td><td> 9</td><td>  0</td></tr>\n",
       "\t<tr><th scope=row>3</th><td>1</td><td>need improvement</td><td>Green Car</td><td>need improvement</td><td>need improvement</td><td>need improvement</td><td>need improvement</td><td>good            </td><td>excellent </td><td>excellent       </td><td>⋯</td><td>excellent       </td><td>excellent </td><td>Female</td><td>Loyal Customer</td><td>43</td><td>Business travel</td><td>Business</td><td>1061</td><td>77</td><td>119</td></tr>\n",
       "\t<tr><th scope=row>4</th><td>0</td><td>acceptable      </td><td>Ordinary </td><td>need improvement</td><td>                </td><td>need improvement</td><td>acceptable      </td><td>need improvement</td><td>acceptable</td><td>acceptable      </td><td>⋯</td><td>acceptable      </td><td>acceptable</td><td>Female</td><td>Loyal Customer</td><td>44</td><td>Business travel</td><td>Business</td><td> 780</td><td>13</td><td> 18</td></tr>\n",
       "\t<tr><th scope=row>5</th><td>1</td><td>acceptable      </td><td>Ordinary </td><td>acceptable      </td><td>acceptable      </td><td>manageable      </td><td>need improvement</td><td>good            </td><td>excellent </td><td>good            </td><td>⋯</td><td>good            </td><td>good      </td><td>Female</td><td>Loyal Customer</td><td>50</td><td>Business travel</td><td>Business</td><td>1981</td><td> 0</td><td>  0</td></tr>\n",
       "\t<tr><th scope=row>6</th><td>1</td><td>need improvement</td><td>Ordinary </td><td>need improvement</td><td>acceptable      </td><td>need improvement</td><td>good            </td><td>excellent       </td><td>good      </td><td>acceptable      </td><td>⋯</td><td>acceptable      </td><td>acceptable</td><td>Male  </td><td>Loyal Customer</td><td>44</td><td>Business travel</td><td>Business</td><td>2810</td><td> 0</td><td>  0</td></tr>\n",
       "</tbody>\n",
       "</table>\n"
      ],
      "text/latex": [
       "A data.frame: 6 × 24\n",
       "\\begin{tabular}{r|lllllllllllllllllllll}\n",
       "  & Overall\\_Experience & Seat\\_comfort & Seat\\_Class & Arrival\\_time\\_convenient & Catering & Platform\\_location & Onboardwifi\\_service & Onboard\\_entertainment & Online\\_support & Onlinebooking\\_Ease & ⋯ & Cleanliness & Online\\_boarding & Gender & CustomerType & Age & TypeTravel & Travel\\_Class & Travel\\_Distance & DepartureDelay\\_in\\_Mins & ArrivalDelay\\_in\\_Mins\\\\\n",
       "  & <fct> & <fct> & <fct> & <fct> & <fct> & <fct> & <fct> & <fct> & <fct> & <fct> & ⋯ & <fct> & <fct> & <fct> & <fct> & <int> & <fct> & <fct> & <int> & <int> & <int>\\\\\n",
       "\\hline\n",
       "\t1 & 0 & need improvement & Green Car & excellent        & excellent        & very convinient  & good             & need improvement & acceptable & need improvement & ⋯ & need improvement & poor       & Female & Loyal Customer & 52 &                 & Business &  272 &  0 &   5\\\\\n",
       "\t2 & 0 & poor             & Ordinary  & excellent        & poor             & need improvement & good             & poor             & good       & good             & ⋯ & good             & good       & Male   & Loyal Customer & 48 & Personal Travel & Eco      & 2200 &  9 &   0\\\\\n",
       "\t3 & 1 & need improvement & Green Car & need improvement & need improvement & need improvement & need improvement & good             & excellent  & excellent        & ⋯ & excellent        & excellent  & Female & Loyal Customer & 43 & Business travel & Business & 1061 & 77 & 119\\\\\n",
       "\t4 & 0 & acceptable       & Ordinary  & need improvement &                  & need improvement & acceptable       & need improvement & acceptable & acceptable       & ⋯ & acceptable       & acceptable & Female & Loyal Customer & 44 & Business travel & Business &  780 & 13 &  18\\\\\n",
       "\t5 & 1 & acceptable       & Ordinary  & acceptable       & acceptable       & manageable       & need improvement & good             & excellent  & good             & ⋯ & good             & good       & Female & Loyal Customer & 50 & Business travel & Business & 1981 &  0 &   0\\\\\n",
       "\t6 & 1 & need improvement & Ordinary  & need improvement & acceptable       & need improvement & good             & excellent        & good       & acceptable       & ⋯ & acceptable       & acceptable & Male   & Loyal Customer & 44 & Business travel & Business & 2810 &  0 &   0\\\\\n",
       "\\end{tabular}\n"
      ],
      "text/markdown": [
       "\n",
       "A data.frame: 6 × 24\n",
       "\n",
       "| <!--/--> | Overall_Experience &lt;fct&gt; | Seat_comfort &lt;fct&gt; | Seat_Class &lt;fct&gt; | Arrival_time_convenient &lt;fct&gt; | Catering &lt;fct&gt; | Platform_location &lt;fct&gt; | Onboardwifi_service &lt;fct&gt; | Onboard_entertainment &lt;fct&gt; | Online_support &lt;fct&gt; | Onlinebooking_Ease &lt;fct&gt; | ⋯ ⋯ | Cleanliness &lt;fct&gt; | Online_boarding &lt;fct&gt; | Gender &lt;fct&gt; | CustomerType &lt;fct&gt; | Age &lt;int&gt; | TypeTravel &lt;fct&gt; | Travel_Class &lt;fct&gt; | Travel_Distance &lt;int&gt; | DepartureDelay_in_Mins &lt;int&gt; | ArrivalDelay_in_Mins &lt;int&gt; |\n",
       "|---|---|---|---|---|---|---|---|---|---|---|---|---|---|---|---|---|---|---|---|---|---|\n",
       "| 1 | 0 | need improvement | Green Car | excellent        | excellent        | very convinient  | good             | need improvement | acceptable | need improvement | ⋯ | need improvement | poor       | Female | Loyal Customer | 52 | <!----> | Business |  272 |  0 |   5 |\n",
       "| 2 | 0 | poor             | Ordinary  | excellent        | poor             | need improvement | good             | poor             | good       | good             | ⋯ | good             | good       | Male   | Loyal Customer | 48 | Personal Travel | Eco      | 2200 |  9 |   0 |\n",
       "| 3 | 1 | need improvement | Green Car | need improvement | need improvement | need improvement | need improvement | good             | excellent  | excellent        | ⋯ | excellent        | excellent  | Female | Loyal Customer | 43 | Business travel | Business | 1061 | 77 | 119 |\n",
       "| 4 | 0 | acceptable       | Ordinary  | need improvement | <!----> | need improvement | acceptable       | need improvement | acceptable | acceptable       | ⋯ | acceptable       | acceptable | Female | Loyal Customer | 44 | Business travel | Business |  780 | 13 |  18 |\n",
       "| 5 | 1 | acceptable       | Ordinary  | acceptable       | acceptable       | manageable       | need improvement | good             | excellent  | good             | ⋯ | good             | good       | Female | Loyal Customer | 50 | Business travel | Business | 1981 |  0 |   0 |\n",
       "| 6 | 1 | need improvement | Ordinary  | need improvement | acceptable       | need improvement | good             | excellent        | good       | acceptable       | ⋯ | acceptable       | acceptable | Male   | Loyal Customer | 44 | Business travel | Business | 2810 |  0 |   0 |\n",
       "\n"
      ],
      "text/plain": [
       "  Overall_Experience Seat_comfort     Seat_Class Arrival_time_convenient\n",
       "1 0                  need improvement Green Car  excellent              \n",
       "2 0                  poor             Ordinary   excellent              \n",
       "3 1                  need improvement Green Car  need improvement       \n",
       "4 0                  acceptable       Ordinary   need improvement       \n",
       "5 1                  acceptable       Ordinary   acceptable             \n",
       "6 1                  need improvement Ordinary   need improvement       \n",
       "  Catering         Platform_location Onboardwifi_service Onboard_entertainment\n",
       "1 excellent        very convinient   good                need improvement     \n",
       "2 poor             need improvement  good                poor                 \n",
       "3 need improvement need improvement  need improvement    good                 \n",
       "4                  need improvement  acceptable          need improvement     \n",
       "5 acceptable       manageable        need improvement    good                 \n",
       "6 acceptable       need improvement  good                excellent            \n",
       "  Online_support Onlinebooking_Ease ⋯ Cleanliness      Online_boarding Gender\n",
       "1 acceptable     need improvement   ⋯ need improvement poor            Female\n",
       "2 good           good               ⋯ good             good            Male  \n",
       "3 excellent      excellent          ⋯ excellent        excellent       Female\n",
       "4 acceptable     acceptable         ⋯ acceptable       acceptable      Female\n",
       "5 excellent      good               ⋯ good             good            Female\n",
       "6 good           acceptable         ⋯ acceptable       acceptable      Male  \n",
       "  CustomerType   Age TypeTravel      Travel_Class Travel_Distance\n",
       "1 Loyal Customer 52                  Business      272           \n",
       "2 Loyal Customer 48  Personal Travel Eco          2200           \n",
       "3 Loyal Customer 43  Business travel Business     1061           \n",
       "4 Loyal Customer 44  Business travel Business      780           \n",
       "5 Loyal Customer 50  Business travel Business     1981           \n",
       "6 Loyal Customer 44  Business travel Business     2810           \n",
       "  DepartureDelay_in_Mins ArrivalDelay_in_Mins\n",
       "1  0                       5                 \n",
       "2  9                       0                 \n",
       "3 77                     119                 \n",
       "4 13                      18                 \n",
       "5  0                       0                 \n",
       "6  0                       0                 "
      ]
     },
     "metadata": {},
     "output_type": "display_data"
    }
   ],
   "source": [
    "full_complete <- full_complete[ , !(names(full_complete) %in% c(\"ID\"))]\n",
    "head(full_complete)"
   ]
  },
  {
   "cell_type": "markdown",
   "id": "6a68e966-2f19-48b0-8c32-5c145ce4163d",
   "metadata": {},
   "source": [
    "## EDA/Visualizations to check for balanced data"
   ]
  },
  {
   "cell_type": "markdown",
   "id": "ca821c6e-d96a-470e-908e-2ee2c5c38e40",
   "metadata": {},
   "source": [
    "### Bar graph to see distribution of response variable (overall experience)"
   ]
  },
  {
   "cell_type": "code",
   "execution_count": 9,
   "id": "1ceb5615-8daa-4a43-b25b-e8cc5a14a336",
   "metadata": {},
   "outputs": [
    {
     "data": {
      "text/html": [
       "<style>\n",
       ".dl-inline {width: auto; margin:0; padding: 0}\n",
       ".dl-inline>dt, .dl-inline>dd {float: none; width: auto; display: inline-block}\n",
       ".dl-inline>dt::after {content: \":\\0020\"; padding-right: .5ex}\n",
       ".dl-inline>dt:not(:first-of-type) {padding-left: .5ex}\n",
       "</style><dl class=dl-inline><dt>Overall_Experience</dt><dd>0</dd><dt>Seat_comfort</dt><dd>61</dd><dt>Seat_Class</dt><dd>0</dd><dt>Arrival_time_convenient</dt><dd>8891</dd><dt>Catering</dt><dd>8702</dd><dt>Platform_location</dt><dd>30</dd><dt>Onboardwifi_service</dt><dd>30</dd><dt>Onboard_entertainment</dt><dd>18</dd><dt>Online_support</dt><dd>91</dd><dt>Onlinebooking_Ease</dt><dd>73</dd><dt>Onboard_service</dt><dd>7569</dd><dt>Leg_room</dt><dd>90</dd><dt>Baggage_handling</dt><dd>142</dd><dt>Checkin_service</dt><dd>77</dd><dt>Cleanliness</dt><dd>6</dd><dt>Online_boarding</dt><dd>6</dd><dt>Gender</dt><dd>47</dd><dt>CustomerType</dt><dd>8888</dd><dt>Age</dt><dd>0</dd><dt>TypeTravel</dt><dd>9161</dd><dt>Travel_Class</dt><dd>0</dd><dt>Travel_Distance</dt><dd>0</dd><dt>DepartureDelay_in_Mins</dt><dd>0</dd><dt>ArrivalDelay_in_Mins</dt><dd>0</dd></dl>\n"
      ],
      "text/latex": [
       "\\begin{description*}\n",
       "\\item[Overall\\textbackslash{}\\_Experience] 0\n",
       "\\item[Seat\\textbackslash{}\\_comfort] 61\n",
       "\\item[Seat\\textbackslash{}\\_Class] 0\n",
       "\\item[Arrival\\textbackslash{}\\_time\\textbackslash{}\\_convenient] 8891\n",
       "\\item[Catering] 8702\n",
       "\\item[Platform\\textbackslash{}\\_location] 30\n",
       "\\item[Onboardwifi\\textbackslash{}\\_service] 30\n",
       "\\item[Onboard\\textbackslash{}\\_entertainment] 18\n",
       "\\item[Online\\textbackslash{}\\_support] 91\n",
       "\\item[Onlinebooking\\textbackslash{}\\_Ease] 73\n",
       "\\item[Onboard\\textbackslash{}\\_service] 7569\n",
       "\\item[Leg\\textbackslash{}\\_room] 90\n",
       "\\item[Baggage\\textbackslash{}\\_handling] 142\n",
       "\\item[Checkin\\textbackslash{}\\_service] 77\n",
       "\\item[Cleanliness] 6\n",
       "\\item[Online\\textbackslash{}\\_boarding] 6\n",
       "\\item[Gender] 47\n",
       "\\item[CustomerType] 8888\n",
       "\\item[Age] 0\n",
       "\\item[TypeTravel] 9161\n",
       "\\item[Travel\\textbackslash{}\\_Class] 0\n",
       "\\item[Travel\\textbackslash{}\\_Distance] 0\n",
       "\\item[DepartureDelay\\textbackslash{}\\_in\\textbackslash{}\\_Mins] 0\n",
       "\\item[ArrivalDelay\\textbackslash{}\\_in\\textbackslash{}\\_Mins] 0\n",
       "\\end{description*}\n"
      ],
      "text/markdown": [
       "Overall_Experience\n",
       ":   0Seat_comfort\n",
       ":   61Seat_Class\n",
       ":   0Arrival_time_convenient\n",
       ":   8891Catering\n",
       ":   8702Platform_location\n",
       ":   30Onboardwifi_service\n",
       ":   30Onboard_entertainment\n",
       ":   18Online_support\n",
       ":   91Onlinebooking_Ease\n",
       ":   73Onboard_service\n",
       ":   7569Leg_room\n",
       ":   90Baggage_handling\n",
       ":   142Checkin_service\n",
       ":   77Cleanliness\n",
       ":   6Online_boarding\n",
       ":   6Gender\n",
       ":   47CustomerType\n",
       ":   8888Age\n",
       ":   0TypeTravel\n",
       ":   9161Travel_Class\n",
       ":   0Travel_Distance\n",
       ":   0DepartureDelay_in_Mins\n",
       ":   0ArrivalDelay_in_Mins\n",
       ":   0\n",
       "\n"
      ],
      "text/plain": [
       "     Overall_Experience            Seat_comfort              Seat_Class \n",
       "                      0                      61                       0 \n",
       "Arrival_time_convenient                Catering       Platform_location \n",
       "                   8891                    8702                      30 \n",
       "    Onboardwifi_service   Onboard_entertainment          Online_support \n",
       "                     30                      18                      91 \n",
       "     Onlinebooking_Ease         Onboard_service                Leg_room \n",
       "                     73                    7569                      90 \n",
       "       Baggage_handling         Checkin_service             Cleanliness \n",
       "                    142                      77                       6 \n",
       "        Online_boarding                  Gender            CustomerType \n",
       "                      6                      47                    8888 \n",
       "                    Age              TypeTravel            Travel_Class \n",
       "                      0                    9161                       0 \n",
       "        Travel_Distance  DepartureDelay_in_Mins    ArrivalDelay_in_Mins \n",
       "                      0                       0                       0 "
      ]
     },
     "metadata": {},
     "output_type": "display_data"
    },
    {
     "data": {
      "text/html": [
       "<style>\n",
       ".dl-inline {width: auto; margin:0; padding: 0}\n",
       ".dl-inline>dt, .dl-inline>dd {float: none; width: auto; display: inline-block}\n",
       ".dl-inline>dt::after {content: \":\\0020\"; padding-right: .5ex}\n",
       ".dl-inline>dt:not(:first-of-type) {padding-left: .5ex}\n",
       "</style><dl class=dl-inline><dt>Overall_Experience</dt><dd>0</dd><dt>Seat_comfort</dt><dd>0</dd><dt>Seat_Class</dt><dd>0</dd><dt>Arrival_time_convenient</dt><dd>0</dd><dt>Catering</dt><dd>0</dd><dt>Platform_location</dt><dd>0</dd><dt>Onboardwifi_service</dt><dd>0</dd><dt>Onboard_entertainment</dt><dd>0</dd><dt>Online_support</dt><dd>0</dd><dt>Onlinebooking_Ease</dt><dd>0</dd><dt>Onboard_service</dt><dd>0</dd><dt>Leg_room</dt><dd>0</dd><dt>Baggage_handling</dt><dd>0</dd><dt>Checkin_service</dt><dd>0</dd><dt>Cleanliness</dt><dd>0</dd><dt>Online_boarding</dt><dd>0</dd><dt>Gender</dt><dd>0</dd><dt>CustomerType</dt><dd>0</dd><dt>Age</dt><dd>0</dd><dt>TypeTravel</dt><dd>0</dd><dt>Travel_Class</dt><dd>0</dd><dt>Travel_Distance</dt><dd>0</dd><dt>DepartureDelay_in_Mins</dt><dd>0</dd><dt>ArrivalDelay_in_Mins</dt><dd>0</dd></dl>\n"
      ],
      "text/latex": [
       "\\begin{description*}\n",
       "\\item[Overall\\textbackslash{}\\_Experience] 0\n",
       "\\item[Seat\\textbackslash{}\\_comfort] 0\n",
       "\\item[Seat\\textbackslash{}\\_Class] 0\n",
       "\\item[Arrival\\textbackslash{}\\_time\\textbackslash{}\\_convenient] 0\n",
       "\\item[Catering] 0\n",
       "\\item[Platform\\textbackslash{}\\_location] 0\n",
       "\\item[Onboardwifi\\textbackslash{}\\_service] 0\n",
       "\\item[Onboard\\textbackslash{}\\_entertainment] 0\n",
       "\\item[Online\\textbackslash{}\\_support] 0\n",
       "\\item[Onlinebooking\\textbackslash{}\\_Ease] 0\n",
       "\\item[Onboard\\textbackslash{}\\_service] 0\n",
       "\\item[Leg\\textbackslash{}\\_room] 0\n",
       "\\item[Baggage\\textbackslash{}\\_handling] 0\n",
       "\\item[Checkin\\textbackslash{}\\_service] 0\n",
       "\\item[Cleanliness] 0\n",
       "\\item[Online\\textbackslash{}\\_boarding] 0\n",
       "\\item[Gender] 0\n",
       "\\item[CustomerType] 0\n",
       "\\item[Age] 0\n",
       "\\item[TypeTravel] 0\n",
       "\\item[Travel\\textbackslash{}\\_Class] 0\n",
       "\\item[Travel\\textbackslash{}\\_Distance] 0\n",
       "\\item[DepartureDelay\\textbackslash{}\\_in\\textbackslash{}\\_Mins] 0\n",
       "\\item[ArrivalDelay\\textbackslash{}\\_in\\textbackslash{}\\_Mins] 0\n",
       "\\end{description*}\n"
      ],
      "text/markdown": [
       "Overall_Experience\n",
       ":   0Seat_comfort\n",
       ":   0Seat_Class\n",
       ":   0Arrival_time_convenient\n",
       ":   0Catering\n",
       ":   0Platform_location\n",
       ":   0Onboardwifi_service\n",
       ":   0Onboard_entertainment\n",
       ":   0Online_support\n",
       ":   0Onlinebooking_Ease\n",
       ":   0Onboard_service\n",
       ":   0Leg_room\n",
       ":   0Baggage_handling\n",
       ":   0Checkin_service\n",
       ":   0Cleanliness\n",
       ":   0Online_boarding\n",
       ":   0Gender\n",
       ":   0CustomerType\n",
       ":   0Age\n",
       ":   0TypeTravel\n",
       ":   0Travel_Class\n",
       ":   0Travel_Distance\n",
       ":   0DepartureDelay_in_Mins\n",
       ":   0ArrivalDelay_in_Mins\n",
       ":   0\n",
       "\n"
      ],
      "text/plain": [
       "     Overall_Experience            Seat_comfort              Seat_Class \n",
       "                      0                       0                       0 \n",
       "Arrival_time_convenient                Catering       Platform_location \n",
       "                      0                       0                       0 \n",
       "    Onboardwifi_service   Onboard_entertainment          Online_support \n",
       "                      0                       0                       0 \n",
       "     Onlinebooking_Ease         Onboard_service                Leg_room \n",
       "                      0                       0                       0 \n",
       "       Baggage_handling         Checkin_service             Cleanliness \n",
       "                      0                       0                       0 \n",
       "        Online_boarding                  Gender            CustomerType \n",
       "                      0                       0                       0 \n",
       "                    Age              TypeTravel            Travel_Class \n",
       "                      0                       0                       0 \n",
       "        Travel_Distance  DepartureDelay_in_Mins    ArrivalDelay_in_Mins \n",
       "                      0                       0                       0 "
      ]
     },
     "metadata": {},
     "output_type": "display_data"
    }
   ],
   "source": [
    "empty_vals <- sapply(full_complete, function(x) x == \"\")\n",
    "colSums(empty_vals)\n",
    "\n",
    "rows_to_keep <- apply(empty_vals, 1, function(row) !any(row))\n",
    "                      \n",
    "shinkansen_data <- full_complete[rows_to_keep, ]\n",
    "                      \n",
    "colSums(sapply(shinkansen_data, function(x) x == \"\"))"
   ]
  },
  {
   "cell_type": "code",
   "execution_count": 10,
   "id": "8e53304b-0098-45de-b5a0-2c1be67b1ef4",
   "metadata": {},
   "outputs": [
    {
     "data": {
      "text/plain": [
       "\n",
       "        0         1 \n",
       "0.4531106 0.5468894 "
      ]
     },
     "metadata": {},
     "output_type": "display_data"
    },
    {
     "data": {
      "image/png": "[encoded data removed]",
      "text/plain": [
       "plot without title"
      ]
     },
     "metadata": {
      "image/png": {
       "height": 420,
       "width": 420
      }
     },
     "output_type": "display_data"
    }
   ],
   "source": [
    "experience <- ggplot(shinkansen_data, aes(x = Overall_Experience)) +\n",
    "  geom_bar()\n",
    "experience\n",
    "\n",
    "proportions <- prop.table(table(shinkansen_data$Overall_Experience))\n",
    "proportions"
   ]
  },
  {
   "cell_type": "markdown",
   "id": "5afa1b07-6b93-4e69-aeb5-1513f804c911",
   "metadata": {},
   "source": [
    "There is a relatively even distribution of overall experiences, with proportions of about 45% and 55%, so the dataset is balanced, and there is no need to undersample/oversample any data"
   ]
  },
  {
   "cell_type": "markdown",
   "id": "a96f01b5-7769-4a09-b286-b8d298005107",
   "metadata": {},
   "source": [
    "### Bar plots to see distributions of numerical variables"
   ]
  },
  {
   "cell_type": "code",
   "execution_count": 11,
   "id": "1af6d694-22f8-43f9-9329-a02dca4ae4b6",
   "metadata": {},
   "outputs": [
    {
     "data": {
      "image/png": "[encoded data removed]",
      "text/plain": [
       "plot without title"
      ]
     },
     "metadata": {
      "image/png": {
       "height": 420,
       "width": 420
      }
     },
     "output_type": "display_data"
    },
    {
     "data": {
      "image/png": "[encoded data removed]",
      "text/plain": [
       "plot without title"
      ]
     },
     "metadata": {
      "image/png": {
       "height": 420,
       "width": 420
      }
     },
     "output_type": "display_data"
    },
    {
     "data": {
      "image/png": "[encoded data removed]",
      "text/plain": [
       "plot without title"
      ]
     },
     "metadata": {
      "image/png": {
       "height": 420,
       "width": 420
      }
     },
     "output_type": "display_data"
    },
    {
     "data": {
      "image/png": "[encoded data removed]",
      "text/plain": [
       "plot without title"
      ]
     },
     "metadata": {
      "image/png": {
       "height": 420,
       "width": 420
      }
     },
     "output_type": "display_data"
    }
   ],
   "source": [
    "plot1 <- ggplot(shinkansen_data, aes(x = Age)) + geom_bar() \n",
    "plot2 <- ggplot(shinkansen_data, aes(x = Travel_Distance)) + geom_bar()\n",
    "plot3 <- ggplot(shinkansen_data, aes(x = ArrivalDelay_in_Mins)) + \n",
    "  geom_bar() + \n",
    "  coord_cartesian(xlim = c(0, 200), ylim = c(0, 5000))\n",
    "plot4 <- ggplot(shinkansen_data, aes(x = DepartureDelay_in_Mins)) + \n",
    "  geom_bar() + \n",
    "  coord_cartesian(xlim = c(0, 200), ylim = c(0, 5000))\n",
    "\n",
    "plot1\n",
    "plot2\n",
    "plot3\n",
    "plot4"
   ]
  },
  {
   "cell_type": "markdown",
   "id": "97b9e7d8-fe97-4485-94ae-7b713c288f3d",
   "metadata": {},
   "source": [
    "The age and travel distance values follow a roughly normal distribution, with the majority of ages being between 25-60 and the majority of distances being between 1000 and 3000.\n",
    "\n",
    "The distributions of arrival delay and deparature delay look quite similar, we can plot them against each other to check for a linear relationship "
   ]
  },
  {
   "cell_type": "markdown",
   "id": "a060f45e-c9a2-4d5c-88c4-c78e96dee485",
   "metadata": {},
   "source": [
    "### Scatterplot of arrival delay vs departure delay"
   ]
  },
  {
   "cell_type": "code",
   "execution_count": 12,
   "id": "ab6e13c0-08f8-432c-9739-9bfbb3f72c75",
   "metadata": {},
   "outputs": [
    {
     "data": {
      "image/png": "[encoded data removed]",
      "text/plain": [
       "plot without title"
      ]
     },
     "metadata": {
      "image/png": {
       "height": 420,
       "width": 420
      }
     },
     "output_type": "display_data"
    }
   ],
   "source": [
    "delays <- ggplot(shinkansen_data, aes(x = ArrivalDelay_in_Mins, y = DepartureDelay_in_Mins)) +\n",
    "  geom_point()\n",
    "delays"
   ]
  },
  {
   "cell_type": "markdown",
   "id": "60b07ebb-a556-47bc-a868-5a088b3ced11",
   "metadata": {},
   "source": [
    "These look quite positively correlated, so it is likely we will remove one of the variables during feature selection"
   ]
  },
  {
   "cell_type": "markdown",
   "id": "8b9bda68-4cc2-409f-9562-f98411e3d716",
   "metadata": {},
   "source": [
    "### Checking the distribution of the types of customers, to see if data is skewed or not"
   ]
  },
  {
   "cell_type": "code",
   "execution_count": 13,
   "id": "d3bb7da7-7e4c-487e-b6a1-664c2e430cea",
   "metadata": {},
   "outputs": [
    {
     "data": {
      "image/png": "[encoded data removed]",
      "text/plain": [
       "plot without title"
      ]
     },
     "metadata": {
      "image/png": {
       "height": 420,
       "width": 420
      }
     },
     "output_type": "display_data"
    }
   ],
   "source": [
    "# Checking counts of gender\n",
    "gender <- ggplot(shinkansen_data, aes(x = Gender)) +\n",
    "  geom_bar()\n",
    "gender"
   ]
  },
  {
   "cell_type": "markdown",
   "id": "183bae03-944a-4c71-aa4c-3572d4bdb7d4",
   "metadata": {},
   "source": [
    "The distribution of Female vs Males seems roughly equal."
   ]
  },
  {
   "cell_type": "code",
   "execution_count": 14,
   "id": "daac5062-7143-451c-96d1-e12f3196fd55",
   "metadata": {},
   "outputs": [
    {
     "data": {
      "image/png": "[encoded data removed]",
      "text/plain": [
       "plot without title"
      ]
     },
     "metadata": {
      "image/png": {
       "height": 420,
       "width": 420
      }
     },
     "output_type": "display_data"
    }
   ],
   "source": [
    "# checking counts of customer type\n",
    "customer_type <- ggplot(shinkansen_data, aes(x = CustomerType)) +\n",
    "  geom_bar()\n",
    "customer_type"
   ]
  },
  {
   "cell_type": "markdown",
   "id": "fd9a957b-f9db-42ff-aaed-94999e077737",
   "metadata": {},
   "source": [
    "There seems to be an imbalance in the type of customer. Having more loyal customers may skew data, in terms of the frequency of these customers giving their surveys, as well as their overall opinion of the system.\n",
    "\n",
    "We can do a quick check to see if this imbalance is shown in the overall experience (response variable)."
   ]
  },
  {
   "cell_type": "code",
   "execution_count": 15,
   "id": "f831683b-0d18-4547-a380-4291758ba37e",
   "metadata": {},
   "outputs": [
    {
     "data": {
      "image/png": "[encoded data removed]",
      "text/plain": [
       "plot without title"
      ]
     },
     "metadata": {
      "image/png": {
       "height": 420,
       "width": 420
      }
     },
     "output_type": "display_data"
    }
   ],
   "source": [
    "# plotting proportions of loyal and disloyal customers in the responses\n",
    "ggplot(shinkansen_data, aes(x = Overall_Experience,fill = CustomerType)) + \n",
    "    geom_bar(position = \"fill\")"
   ]
  },
  {
   "cell_type": "markdown",
   "id": "3288654e-6536-41d4-8b01-7d8f43e34f03",
   "metadata": {},
   "source": [
    "It does appear that more loyal customers have a better experience overall, but this isn't an enormous difference, so it appears the imbalance of customer type won't be skewing the results too badly."
   ]
  },
  {
   "cell_type": "markdown",
   "id": "bbc4c021-313c-4263-82e3-c3bce78176eb",
   "metadata": {},
   "source": [
    "## Feature Selection\n",
    "\n",
    "Our model involves 25 variables (including categorical and continous variables). Of which, the categorical variables involve 5-7 different levels of categories. Our overall data, after processing, involves over 90000 rows. This makes our model significantly complex. \n",
    "\n",
    "Therefore, we'll first conduct feature selection to reduce model complexity."
   ]
  },
  {
   "cell_type": "markdown",
   "id": "939fabd2-053f-4991-8a6f-2e64db457a3e",
   "metadata": {},
   "source": [
    "But, what should our approach look like?\n",
    "\n",
    "#### Understanding Cramer's V\r\n",
    "\r\n",
    "Cramer's V is a statistic that will be used to measure the association between two categorical variables, offering a value from 0 to 1. It is calculated from the chi-squared statistic from a contingency table, which assesses the independence of two variables. The formula for Cramer's V is:\r\n",
    "\r\n",
    "$$ V = \\sqrt{\\frac{\\chi^2/n}{\\min(k-1, r-1)}} $$\r\n",
    "\r\n",
    "where $\\chi^2$ is the chi-squared statistic, $n$ is the total number of observations, $k$ is the number of columns, and $r$ is the number of rows in the table. A Cramer's V near 0 signifies a weak association, and one close to 1 indicates a strong associtomer satisfaction.\r\n"
   ]
  },
  {
   "cell_type": "markdown",
   "id": "776aa60a-40d9-4cda-84a5-10d364a4efea",
   "metadata": {},
   "source": [
    "#### Cramer's V in the Context of Our Project\n",
    "\n",
    "In our study, we will apply Cramer's V to evaluate the relationship between various categorical predictors and our response variable, `Overall_Experience`. This measure will guide us in understanding the extent to which different factors affect the overall customer experience.\n",
    "\n",
    "Additionally, we will use Cramer's V for detecting multicollinearity among categorical predictors. Multicollinearity, where predictors are highly inter-correlated, can compromise the integrity of statistical inferences."
   ]
  },
  {
   "cell_type": "markdown",
   "id": "2eb83f1e-a79a-4716-a9e3-62133140c550",
   "metadata": {},
   "source": [
    "#### Significance of Cramer's V in feature selection process\n",
    "\n",
    "High values of Cramer's V between pairs of variables will highlight redundancies and strategic associations, influencing our decision to remove features that exhibit multicollinearity, and choose variables that best explain `Overall_Experience` of commuters."
   ]
  },
  {
   "cell_type": "code",
   "execution_count": 16,
   "id": "a5831f32-0450-49ce-a185-8a4125711edc",
   "metadata": {},
   "outputs": [],
   "source": [
    "set.seed(123) # For reproducibility\n",
    "sample_frac <- 0.1\n",
    "full_sampled <- full_complete[sample(nrow(full_complete), size = floor(nrow(full_complete) * sample_frac)), ]"
   ]
  },
  {
   "cell_type": "code",
   "execution_count": 17,
   "id": "873dbd81-8c49-40fe-8956-cd43521b9310",
   "metadata": {},
   "outputs": [
    {
     "data": {
      "text/html": [
       "<table class=\"dataframe\">\n",
       "<caption>A data.frame: 6 × 24</caption>\n",
       "<thead>\n",
       "\t<tr><th></th><th scope=col>Overall_Experience</th><th scope=col>Seat_comfort</th><th scope=col>Seat_Class</th><th scope=col>Arrival_time_convenient</th><th scope=col>Catering</th><th scope=col>Platform_location</th><th scope=col>Onboardwifi_service</th><th scope=col>Onboard_entertainment</th><th scope=col>Online_support</th><th scope=col>Onlinebooking_Ease</th><th scope=col>⋯</th><th scope=col>Cleanliness</th><th scope=col>Online_boarding</th><th scope=col>Gender</th><th scope=col>CustomerType</th><th scope=col>Age</th><th scope=col>TypeTravel</th><th scope=col>Travel_Class</th><th scope=col>Travel_Distance</th><th scope=col>DepartureDelay_in_Mins</th><th scope=col>ArrivalDelay_in_Mins</th></tr>\n",
       "\t<tr><th></th><th scope=col>&lt;fct&gt;</th><th scope=col>&lt;fct&gt;</th><th scope=col>&lt;fct&gt;</th><th scope=col>&lt;fct&gt;</th><th scope=col>&lt;fct&gt;</th><th scope=col>&lt;fct&gt;</th><th scope=col>&lt;fct&gt;</th><th scope=col>&lt;fct&gt;</th><th scope=col>&lt;fct&gt;</th><th scope=col>&lt;fct&gt;</th><th scope=col>⋯</th><th scope=col>&lt;fct&gt;</th><th scope=col>&lt;fct&gt;</th><th scope=col>&lt;fct&gt;</th><th scope=col>&lt;fct&gt;</th><th scope=col>&lt;int&gt;</th><th scope=col>&lt;fct&gt;</th><th scope=col>&lt;fct&gt;</th><th scope=col>&lt;int&gt;</th><th scope=col>&lt;int&gt;</th><th scope=col>&lt;int&gt;</th></tr>\n",
       "</thead>\n",
       "<tbody>\n",
       "\t<tr><th scope=row>51883</th><td>0</td><td>need improvement</td><td>Green Car</td><td>need improvement</td><td>need improvement</td><td>manageable      </td><td>excellent       </td><td>need improvement</td><td>good            </td><td>excellent       </td><td>⋯</td><td>good     </td><td>excellent       </td><td>Female</td><td>disloyal Customer</td><td>36</td><td>Business travel</td><td>Business</td><td>2200</td><td>37</td><td>40</td></tr>\n",
       "\t<tr><th scope=row>58120</th><td>0</td><td>good            </td><td>Ordinary </td><td>acceptable      </td><td>acceptable      </td><td>manageable      </td><td>good            </td><td>acceptable      </td><td>good            </td><td>good            </td><td>⋯</td><td>good     </td><td>good            </td><td>Male  </td><td>Loyal Customer   </td><td>30</td><td>Business travel</td><td>Eco     </td><td>2410</td><td>18</td><td> 8</td></tr>\n",
       "\t<tr><th scope=row>3006</th><td>1</td><td>good            </td><td>Green Car</td><td>good            </td><td>good            </td><td>need improvement</td><td>need improvement</td><td>good            </td><td>need improvement</td><td>need improvement</td><td>⋯</td><td>good     </td><td>need improvement</td><td>Male  </td><td>disloyal Customer</td><td>39</td><td>Business travel</td><td>Business</td><td>2696</td><td> 0</td><td> 0</td></tr>\n",
       "\t<tr><th scope=row>30044</th><td>1</td><td>poor            </td><td>Green Car</td><td>poor            </td><td>                </td><td>Inconvinient    </td><td>excellent       </td><td>excellent       </td><td>excellent       </td><td>excellent       </td><td>⋯</td><td>excellent</td><td>excellent       </td><td>Male  </td><td>Loyal Customer   </td><td>29</td><td>Business travel</td><td>Business</td><td>2781</td><td> 6</td><td> 0</td></tr>\n",
       "\t<tr><th scope=row>68584</th><td>0</td><td>good            </td><td>Ordinary </td><td>poor            </td><td>good            </td><td>Convinient      </td><td>poor            </td><td>good            </td><td>poor            </td><td>poor            </td><td>⋯</td><td>good     </td><td>poor            </td><td>Male  </td><td>Loyal Customer   </td><td>29</td><td>               </td><td>Eco     </td><td>2143</td><td> 0</td><td> 0</td></tr>\n",
       "\t<tr><th scope=row>62823</th><td>1</td><td>excellent       </td><td>Green Car</td><td>excellent       </td><td>excellent       </td><td>very convinient </td><td>good            </td><td>good            </td><td>good            </td><td>good            </td><td>⋯</td><td>good     </td><td>acceptable      </td><td>Male  </td><td>                 </td><td>50</td><td>Business travel</td><td>Business</td><td>3752</td><td> 0</td><td> 0</td></tr>\n",
       "</tbody>\n",
       "</table>\n"
      ],
      "text/latex": [
       "A data.frame: 6 × 24\n",
       "\\begin{tabular}{r|lllllllllllllllllllll}\n",
       "  & Overall\\_Experience & Seat\\_comfort & Seat\\_Class & Arrival\\_time\\_convenient & Catering & Platform\\_location & Onboardwifi\\_service & Onboard\\_entertainment & Online\\_support & Onlinebooking\\_Ease & ⋯ & Cleanliness & Online\\_boarding & Gender & CustomerType & Age & TypeTravel & Travel\\_Class & Travel\\_Distance & DepartureDelay\\_in\\_Mins & ArrivalDelay\\_in\\_Mins\\\\\n",
       "  & <fct> & <fct> & <fct> & <fct> & <fct> & <fct> & <fct> & <fct> & <fct> & <fct> & ⋯ & <fct> & <fct> & <fct> & <fct> & <int> & <fct> & <fct> & <int> & <int> & <int>\\\\\n",
       "\\hline\n",
       "\t51883 & 0 & need improvement & Green Car & need improvement & need improvement & manageable       & excellent        & need improvement & good             & excellent        & ⋯ & good      & excellent        & Female & disloyal Customer & 36 & Business travel & Business & 2200 & 37 & 40\\\\\n",
       "\t58120 & 0 & good             & Ordinary  & acceptable       & acceptable       & manageable       & good             & acceptable       & good             & good             & ⋯ & good      & good             & Male   & Loyal Customer    & 30 & Business travel & Eco      & 2410 & 18 &  8\\\\\n",
       "\t3006 & 1 & good             & Green Car & good             & good             & need improvement & need improvement & good             & need improvement & need improvement & ⋯ & good      & need improvement & Male   & disloyal Customer & 39 & Business travel & Business & 2696 &  0 &  0\\\\\n",
       "\t30044 & 1 & poor             & Green Car & poor             &                  & Inconvinient     & excellent        & excellent        & excellent        & excellent        & ⋯ & excellent & excellent        & Male   & Loyal Customer    & 29 & Business travel & Business & 2781 &  6 &  0\\\\\n",
       "\t68584 & 0 & good             & Ordinary  & poor             & good             & Convinient       & poor             & good             & poor             & poor             & ⋯ & good      & poor             & Male   & Loyal Customer    & 29 &                 & Eco      & 2143 &  0 &  0\\\\\n",
       "\t62823 & 1 & excellent        & Green Car & excellent        & excellent        & very convinient  & good             & good             & good             & good             & ⋯ & good      & acceptable       & Male   &                   & 50 & Business travel & Business & 3752 &  0 &  0\\\\\n",
       "\\end{tabular}\n"
      ],
      "text/markdown": [
       "\n",
       "A data.frame: 6 × 24\n",
       "\n",
       "| <!--/--> | Overall_Experience &lt;fct&gt; | Seat_comfort &lt;fct&gt; | Seat_Class &lt;fct&gt; | Arrival_time_convenient &lt;fct&gt; | Catering &lt;fct&gt; | Platform_location &lt;fct&gt; | Onboardwifi_service &lt;fct&gt; | Onboard_entertainment &lt;fct&gt; | Online_support &lt;fct&gt; | Onlinebooking_Ease &lt;fct&gt; | ⋯ ⋯ | Cleanliness &lt;fct&gt; | Online_boarding &lt;fct&gt; | Gender &lt;fct&gt; | CustomerType &lt;fct&gt; | Age &lt;int&gt; | TypeTravel &lt;fct&gt; | Travel_Class &lt;fct&gt; | Travel_Distance &lt;int&gt; | DepartureDelay_in_Mins &lt;int&gt; | ArrivalDelay_in_Mins &lt;int&gt; |\n",
       "|---|---|---|---|---|---|---|---|---|---|---|---|---|---|---|---|---|---|---|---|---|---|\n",
       "| 51883 | 0 | need improvement | Green Car | need improvement | need improvement | manageable       | excellent        | need improvement | good             | excellent        | ⋯ | good      | excellent        | Female | disloyal Customer | 36 | Business travel | Business | 2200 | 37 | 40 |\n",
       "| 58120 | 0 | good             | Ordinary  | acceptable       | acceptable       | manageable       | good             | acceptable       | good             | good             | ⋯ | good      | good             | Male   | Loyal Customer    | 30 | Business travel | Eco      | 2410 | 18 |  8 |\n",
       "| 3006 | 1 | good             | Green Car | good             | good             | need improvement | need improvement | good             | need improvement | need improvement | ⋯ | good      | need improvement | Male   | disloyal Customer | 39 | Business travel | Business | 2696 |  0 |  0 |\n",
       "| 30044 | 1 | poor             | Green Car | poor             | <!----> | Inconvinient     | excellent        | excellent        | excellent        | excellent        | ⋯ | excellent | excellent        | Male   | Loyal Customer    | 29 | Business travel | Business | 2781 |  6 |  0 |\n",
       "| 68584 | 0 | good             | Ordinary  | poor             | good             | Convinient       | poor             | good             | poor             | poor             | ⋯ | good      | poor             | Male   | Loyal Customer    | 29 | <!----> | Eco      | 2143 |  0 |  0 |\n",
       "| 62823 | 1 | excellent        | Green Car | excellent        | excellent        | very convinient  | good             | good             | good             | good             | ⋯ | good      | acceptable       | Male   | <!----> | 50 | Business travel | Business | 3752 |  0 |  0 |\n",
       "\n"
      ],
      "text/plain": [
       "      Overall_Experience Seat_comfort     Seat_Class Arrival_time_convenient\n",
       "51883 0                  need improvement Green Car  need improvement       \n",
       "58120 0                  good             Ordinary   acceptable             \n",
       "3006  1                  good             Green Car  good                   \n",
       "30044 1                  poor             Green Car  poor                   \n",
       "68584 0                  good             Ordinary   poor                   \n",
       "62823 1                  excellent        Green Car  excellent              \n",
       "      Catering         Platform_location Onboardwifi_service\n",
       "51883 need improvement manageable        excellent          \n",
       "58120 acceptable       manageable        good               \n",
       "3006  good             need improvement  need improvement   \n",
       "30044                  Inconvinient      excellent          \n",
       "68584 good             Convinient        poor               \n",
       "62823 excellent        very convinient   good               \n",
       "      Onboard_entertainment Online_support   Onlinebooking_Ease ⋯ Cleanliness\n",
       "51883 need improvement      good             excellent          ⋯ good       \n",
       "58120 acceptable            good             good               ⋯ good       \n",
       "3006  good                  need improvement need improvement   ⋯ good       \n",
       "30044 excellent             excellent        excellent          ⋯ excellent  \n",
       "68584 good                  poor             poor               ⋯ good       \n",
       "62823 good                  good             good               ⋯ good       \n",
       "      Online_boarding  Gender CustomerType      Age TypeTravel     \n",
       "51883 excellent        Female disloyal Customer 36  Business travel\n",
       "58120 good             Male   Loyal Customer    30  Business travel\n",
       "3006  need improvement Male   disloyal Customer 39  Business travel\n",
       "30044 excellent        Male   Loyal Customer    29  Business travel\n",
       "68584 poor             Male   Loyal Customer    29                 \n",
       "62823 acceptable       Male                     50  Business travel\n",
       "      Travel_Class Travel_Distance DepartureDelay_in_Mins ArrivalDelay_in_Mins\n",
       "51883 Business     2200            37                     40                  \n",
       "58120 Eco          2410            18                      8                  \n",
       "3006  Business     2696             0                      0                  \n",
       "30044 Business     2781             6                      0                  \n",
       "68584 Eco          2143             0                      0                  \n",
       "62823 Business     3752             0                      0                  "
      ]
     },
     "metadata": {},
     "output_type": "display_data"
    }
   ],
   "source": [
    "head(full_sampled)"
   ]
  },
  {
   "cell_type": "code",
   "execution_count": 18,
   "id": "0f5322f0-a910-4718-a049-bc902da63d31",
   "metadata": {},
   "outputs": [],
   "source": [
    "# Function to calculate Chi-squared test and Cramér's V for all pairs of categorical variables\n",
    "association_test <- function(data) {\n",
    "  cat_vars <- sapply(data, is.factor) \n",
    "  cat_combinations <- combn(names(cat_vars)[cat_vars], 2)\n",
    "  \n",
    "  results <- data.frame(Var1 = character(), Var2 = character(), Chi_Squared = numeric(), P_Value = numeric(), Cramers_V = numeric(), stringsAsFactors = FALSE)\n",
    "  \n",
    "  for(i in 1:ncol(cat_combinations)) {\n",
    "    var1 <- cat_combinations[1, i]\n",
    "    var2 <- cat_combinations[2, i]\n",
    "    \n",
    "    table <- table(data[[var1]], data[[var2]])\n",
    "    test <- tryCatch(chisq.test(table), error = function(e) return(e))\n",
    "\n",
    "    if(!inherits(test, \"error\")) {\n",
    "      v <- sqrt(test$statistic / (sum(table) * (min(nrow(table), ncol(table)) - 1)))\n",
    "    } else {\n",
    "      v <- NA\n",
    "    }\n",
    "    results <- rbind(results, data.frame(Var1 = var1, Var2 = var2, Chi_Squared = if(!is.na(v)) test$statistic else NA, P_Value = if(!is.na(v)) test$p.value else NA, Cramers_V = v))\n",
    "  }\n",
    "  return(results)\n",
    "}\n",
    "\n",
    "association_results <- association_test(full_sampled)"
   ]
  },
  {
   "cell_type": "code",
   "execution_count": 19,
   "id": "e0f73344-f353-48de-b6b7-9b5b508fd3e6",
   "metadata": {},
   "outputs": [
    {
     "data": {
      "text/html": [
       "<table class=\"dataframe\">\n",
       "<caption>A data.frame: 190 × 5</caption>\n",
       "<thead>\n",
       "\t<tr><th></th><th scope=col>Var1</th><th scope=col>Var2</th><th scope=col>Chi_Squared</th><th scope=col>P_Value</th><th scope=col>Cramers_V</th></tr>\n",
       "\t<tr><th></th><th scope=col>&lt;chr&gt;</th><th scope=col>&lt;chr&gt;</th><th scope=col>&lt;dbl&gt;</th><th scope=col>&lt;dbl&gt;</th><th scope=col>&lt;dbl&gt;</th></tr>\n",
       "</thead>\n",
       "<tbody>\n",
       "\t<tr><th scope=row>X-squared</th><td>Overall_Experience</td><td>Seat_comfort           </td><td>          NA</td><td>           NA</td><td>        NaN</td></tr>\n",
       "\t<tr><th scope=row>X-squared1</th><td>Overall_Experience</td><td>Seat_Class             </td><td>   0.3558417</td><td> 5.508247e-01</td><td>0.006153337</td></tr>\n",
       "\t<tr><th scope=row>X-squared2</th><td>Overall_Experience</td><td>Arrival_time_convenient</td><td>  13.5929257</td><td> 3.452912e-02</td><td>0.038031088</td></tr>\n",
       "\t<tr><th scope=row>X-squared3</th><td>Overall_Experience</td><td>Catering               </td><td> 618.0773194</td><td>2.937796e-130</td><td>0.256450579</td></tr>\n",
       "\t<tr><th scope=row>X-squared4</th><td>Overall_Experience</td><td>Platform_location      </td><td>          NA</td><td>           NA</td><td>        NaN</td></tr>\n",
       "\t<tr><th scope=row>X-squared5</th><td>Overall_Experience</td><td>Onboardwifi_service    </td><td> 529.2869303</td><td>4.115076e-111</td><td>0.237316462</td></tr>\n",
       "\t<tr><th scope=row>X-squared6</th><td>Overall_Experience</td><td>Onboard_entertainment  </td><td>3808.0624422</td><td> 0.000000e+00</td><td>0.636552620</td></tr>\n",
       "\t<tr><th scope=row>X-squared7</th><td>Overall_Experience</td><td>Online_support         </td><td>          NA</td><td>           NA</td><td>        NaN</td></tr>\n",
       "\t<tr><th scope=row>X-squared8</th><td>Overall_Experience</td><td>Onlinebooking_Ease     </td><td>1806.3509506</td><td> 0.000000e+00</td><td>0.438412921</td></tr>\n",
       "\t<tr><th scope=row>X-squared9</th><td>Overall_Experience</td><td>Onboard_service        </td><td>          NA</td><td>           NA</td><td>        NaN</td></tr>\n",
       "\t<tr><th scope=row>X-squared10</th><td>Overall_Experience</td><td>Leg_room               </td><td> 992.2061091</td><td>4.335564e-211</td><td>0.324925075</td></tr>\n",
       "\t<tr><th scope=row>X-squared11</th><td>Overall_Experience</td><td>Baggage_handling       </td><td> 857.7691208</td><td>3.666017e-183</td><td>0.302111657</td></tr>\n",
       "\t<tr><th scope=row>X-squared12</th><td>Overall_Experience</td><td>Checkin_service        </td><td>          NA</td><td>           NA</td><td>        NaN</td></tr>\n",
       "\t<tr><th scope=row>X-squared13</th><td>Overall_Experience</td><td>Cleanliness            </td><td>          NA</td><td>           NA</td><td>        NaN</td></tr>\n",
       "\t<tr><th scope=row>X-squared14</th><td>Overall_Experience</td><td>Online_boarding        </td><td>          NA</td><td>           NA</td><td>        NaN</td></tr>\n",
       "\t<tr><th scope=row>X-squared15</th><td>Overall_Experience</td><td>Gender                 </td><td>          NA</td><td>           NA</td><td>        NaN</td></tr>\n",
       "\t<tr><th scope=row>X-squared16</th><td>Overall_Experience</td><td>CustomerType           </td><td> 718.9507248</td><td>7.617873e-157</td><td>0.276587050</td></tr>\n",
       "\t<tr><th scope=row>X-squared17</th><td>Overall_Experience</td><td>TypeTravel             </td><td> 110.5064868</td><td> 1.008838e-24</td><td>0.108436668</td></tr>\n",
       "\t<tr><th scope=row>X-squared18</th><td>Overall_Experience</td><td>Travel_Class           </td><td> 927.8679313</td><td>8.585566e-204</td><td>0.314213878</td></tr>\n",
       "\t<tr><th scope=row>X-squared19</th><td>Seat_comfort      </td><td>Seat_Class             </td><td>          NA</td><td>           NA</td><td>        NaN</td></tr>\n",
       "\t<tr><th scope=row>X-squared20</th><td>Seat_comfort      </td><td>Arrival_time_convenient</td><td>          NA</td><td>           NA</td><td>        NaN</td></tr>\n",
       "\t<tr><th scope=row>X-squared21</th><td>Seat_comfort      </td><td>Catering               </td><td>          NA</td><td>           NA</td><td>        NaN</td></tr>\n",
       "\t<tr><th scope=row>X-squared22</th><td>Seat_comfort      </td><td>Platform_location      </td><td>          NA</td><td>           NA</td><td>        NaN</td></tr>\n",
       "\t<tr><th scope=row>X-squared23</th><td>Seat_comfort      </td><td>Onboardwifi_service    </td><td>          NA</td><td>           NA</td><td>        NaN</td></tr>\n",
       "\t<tr><th scope=row>X-squared24</th><td>Seat_comfort      </td><td>Onboard_entertainment  </td><td>          NA</td><td>           NA</td><td>        NaN</td></tr>\n",
       "\t<tr><th scope=row>X-squared25</th><td>Seat_comfort      </td><td>Online_support         </td><td>          NA</td><td>           NA</td><td>        NaN</td></tr>\n",
       "\t<tr><th scope=row>X-squared26</th><td>Seat_comfort      </td><td>Onlinebooking_Ease     </td><td>          NA</td><td>           NA</td><td>        NaN</td></tr>\n",
       "\t<tr><th scope=row>X-squared27</th><td>Seat_comfort      </td><td>Onboard_service        </td><td>          NA</td><td>           NA</td><td>        NaN</td></tr>\n",
       "\t<tr><th scope=row>X-squared28</th><td>Seat_comfort      </td><td>Leg_room               </td><td>          NA</td><td>           NA</td><td>        NaN</td></tr>\n",
       "\t<tr><th scope=row>X-squared29</th><td>Seat_comfort      </td><td>Baggage_handling       </td><td>          NA</td><td>           NA</td><td>        NaN</td></tr>\n",
       "\t<tr><th scope=row>⋮</th><td>⋮</td><td>⋮</td><td>⋮</td><td>⋮</td><td>⋮</td></tr>\n",
       "\t<tr><th scope=row>X-squared160</th><td>Leg_room        </td><td>TypeTravel     </td><td>  79.29314</td><td> 5.628691e-12</td><td>0.06495089</td></tr>\n",
       "\t<tr><th scope=row>X-squared161</th><td>Leg_room        </td><td>Travel_Class   </td><td> 210.25995</td><td> 1.239700e-42</td><td>0.14957553</td></tr>\n",
       "\t<tr><th scope=row>X-squared162</th><td>Baggage_handling</td><td>Checkin_service</td><td>        NA</td><td>           NA</td><td>       NaN</td></tr>\n",
       "\t<tr><th scope=row>X-squared163</th><td>Baggage_handling</td><td>Cleanliness    </td><td>        NA</td><td>           NA</td><td>       NaN</td></tr>\n",
       "\t<tr><th scope=row>X-squared164</th><td>Baggage_handling</td><td>Online_boarding</td><td>        NA</td><td>           NA</td><td>       NaN</td></tr>\n",
       "\t<tr><th scope=row>X-squared165</th><td>Baggage_handling</td><td>Gender         </td><td>        NA</td><td>           NA</td><td>       NaN</td></tr>\n",
       "\t<tr><th scope=row>X-squared166</th><td>Baggage_handling</td><td>CustomerType   </td><td>  76.25177</td><td> 2.713575e-12</td><td>0.06369308</td></tr>\n",
       "\t<tr><th scope=row>X-squared167</th><td>Baggage_handling</td><td>TypeTravel     </td><td>  42.39022</td><td> 6.389774e-06</td><td>0.04748978</td></tr>\n",
       "\t<tr><th scope=row>X-squared168</th><td>Baggage_handling</td><td>Travel_Class   </td><td> 205.90815</td><td> 1.546163e-42</td><td>0.14801954</td></tr>\n",
       "\t<tr><th scope=row>X-squared169</th><td>Checkin_service </td><td>Cleanliness    </td><td>        NA</td><td>           NA</td><td>       NaN</td></tr>\n",
       "\t<tr><th scope=row>X-squared170</th><td>Checkin_service </td><td>Online_boarding</td><td>        NA</td><td>           NA</td><td>       NaN</td></tr>\n",
       "\t<tr><th scope=row>X-squared171</th><td>Checkin_service </td><td>Gender         </td><td>        NA</td><td>           NA</td><td>       NaN</td></tr>\n",
       "\t<tr><th scope=row>X-squared172</th><td>Checkin_service </td><td>CustomerType   </td><td>        NA</td><td>           NA</td><td>       NaN</td></tr>\n",
       "\t<tr><th scope=row>X-squared173</th><td>Checkin_service </td><td>TypeTravel     </td><td>        NA</td><td>           NA</td><td>       NaN</td></tr>\n",
       "\t<tr><th scope=row>X-squared174</th><td>Checkin_service </td><td>Travel_Class   </td><td>        NA</td><td>           NA</td><td>       NaN</td></tr>\n",
       "\t<tr><th scope=row>X-squared175</th><td>Cleanliness     </td><td>Online_boarding</td><td>        NA</td><td>           NA</td><td>       NaN</td></tr>\n",
       "\t<tr><th scope=row>X-squared176</th><td>Cleanliness     </td><td>Gender         </td><td>        NA</td><td>           NA</td><td>       NaN</td></tr>\n",
       "\t<tr><th scope=row>X-squared177</th><td>Cleanliness     </td><td>CustomerType   </td><td>        NA</td><td>           NA</td><td>       NaN</td></tr>\n",
       "\t<tr><th scope=row>X-squared178</th><td>Cleanliness     </td><td>TypeTravel     </td><td>        NA</td><td>           NA</td><td>       NaN</td></tr>\n",
       "\t<tr><th scope=row>X-squared179</th><td>Cleanliness     </td><td>Travel_Class   </td><td>        NA</td><td>           NA</td><td>       NaN</td></tr>\n",
       "\t<tr><th scope=row>X-squared180</th><td>Online_boarding </td><td>Gender         </td><td>        NA</td><td>           NA</td><td>       NaN</td></tr>\n",
       "\t<tr><th scope=row>X-squared181</th><td>Online_boarding </td><td>CustomerType   </td><td>        NA</td><td>           NA</td><td>       NaN</td></tr>\n",
       "\t<tr><th scope=row>X-squared182</th><td>Online_boarding </td><td>TypeTravel     </td><td>        NA</td><td>           NA</td><td>       NaN</td></tr>\n",
       "\t<tr><th scope=row>X-squared183</th><td>Online_boarding </td><td>Travel_Class   </td><td>        NA</td><td>           NA</td><td>       NaN</td></tr>\n",
       "\t<tr><th scope=row>X-squared184</th><td>Gender          </td><td>CustomerType   </td><td>        NA</td><td>           NA</td><td>       NaN</td></tr>\n",
       "\t<tr><th scope=row>X-squared185</th><td>Gender          </td><td>TypeTravel     </td><td>        NA</td><td>           NA</td><td>       NaN</td></tr>\n",
       "\t<tr><th scope=row>X-squared186</th><td>Gender          </td><td>Travel_Class   </td><td>        NA</td><td>           NA</td><td>       NaN</td></tr>\n",
       "\t<tr><th scope=row>X-squared187</th><td>CustomerType    </td><td>TypeTravel     </td><td> 864.88922</td><td>6.739461e-186</td><td>0.21450999</td></tr>\n",
       "\t<tr><th scope=row>X-squared188</th><td>CustomerType    </td><td>Travel_Class   </td><td>  88.04464</td><td> 7.609390e-20</td><td>0.09679072</td></tr>\n",
       "\t<tr><th scope=row>X-squared189</th><td>TypeTravel      </td><td>Travel_Class   </td><td>2519.09324</td><td> 0.000000e+00</td><td>0.51773128</td></tr>\n",
       "</tbody>\n",
       "</table>\n"
      ],
      "text/latex": [
       "A data.frame: 190 × 5\n",
       "\\begin{tabular}{r|lllll}\n",
       "  & Var1 & Var2 & Chi\\_Squared & P\\_Value & Cramers\\_V\\\\\n",
       "  & <chr> & <chr> & <dbl> & <dbl> & <dbl>\\\\\n",
       "\\hline\n",
       "\tX-squared & Overall\\_Experience & Seat\\_comfort            &           NA &            NA &         NaN\\\\\n",
       "\tX-squared1 & Overall\\_Experience & Seat\\_Class              &    0.3558417 &  5.508247e-01 & 0.006153337\\\\\n",
       "\tX-squared2 & Overall\\_Experience & Arrival\\_time\\_convenient &   13.5929257 &  3.452912e-02 & 0.038031088\\\\\n",
       "\tX-squared3 & Overall\\_Experience & Catering                &  618.0773194 & 2.937796e-130 & 0.256450579\\\\\n",
       "\tX-squared4 & Overall\\_Experience & Platform\\_location       &           NA &            NA &         NaN\\\\\n",
       "\tX-squared5 & Overall\\_Experience & Onboardwifi\\_service     &  529.2869303 & 4.115076e-111 & 0.237316462\\\\\n",
       "\tX-squared6 & Overall\\_Experience & Onboard\\_entertainment   & 3808.0624422 &  0.000000e+00 & 0.636552620\\\\\n",
       "\tX-squared7 & Overall\\_Experience & Online\\_support          &           NA &            NA &         NaN\\\\\n",
       "\tX-squared8 & Overall\\_Experience & Onlinebooking\\_Ease      & 1806.3509506 &  0.000000e+00 & 0.438412921\\\\\n",
       "\tX-squared9 & Overall\\_Experience & Onboard\\_service         &           NA &            NA &         NaN\\\\\n",
       "\tX-squared10 & Overall\\_Experience & Leg\\_room                &  992.2061091 & 4.335564e-211 & 0.324925075\\\\\n",
       "\tX-squared11 & Overall\\_Experience & Baggage\\_handling        &  857.7691208 & 3.666017e-183 & 0.302111657\\\\\n",
       "\tX-squared12 & Overall\\_Experience & Checkin\\_service         &           NA &            NA &         NaN\\\\\n",
       "\tX-squared13 & Overall\\_Experience & Cleanliness             &           NA &            NA &         NaN\\\\\n",
       "\tX-squared14 & Overall\\_Experience & Online\\_boarding         &           NA &            NA &         NaN\\\\\n",
       "\tX-squared15 & Overall\\_Experience & Gender                  &           NA &            NA &         NaN\\\\\n",
       "\tX-squared16 & Overall\\_Experience & CustomerType            &  718.9507248 & 7.617873e-157 & 0.276587050\\\\\n",
       "\tX-squared17 & Overall\\_Experience & TypeTravel              &  110.5064868 &  1.008838e-24 & 0.108436668\\\\\n",
       "\tX-squared18 & Overall\\_Experience & Travel\\_Class            &  927.8679313 & 8.585566e-204 & 0.314213878\\\\\n",
       "\tX-squared19 & Seat\\_comfort       & Seat\\_Class              &           NA &            NA &         NaN\\\\\n",
       "\tX-squared20 & Seat\\_comfort       & Arrival\\_time\\_convenient &           NA &            NA &         NaN\\\\\n",
       "\tX-squared21 & Seat\\_comfort       & Catering                &           NA &            NA &         NaN\\\\\n",
       "\tX-squared22 & Seat\\_comfort       & Platform\\_location       &           NA &            NA &         NaN\\\\\n",
       "\tX-squared23 & Seat\\_comfort       & Onboardwifi\\_service     &           NA &            NA &         NaN\\\\\n",
       "\tX-squared24 & Seat\\_comfort       & Onboard\\_entertainment   &           NA &            NA &         NaN\\\\\n",
       "\tX-squared25 & Seat\\_comfort       & Online\\_support          &           NA &            NA &         NaN\\\\\n",
       "\tX-squared26 & Seat\\_comfort       & Onlinebooking\\_Ease      &           NA &            NA &         NaN\\\\\n",
       "\tX-squared27 & Seat\\_comfort       & Onboard\\_service         &           NA &            NA &         NaN\\\\\n",
       "\tX-squared28 & Seat\\_comfort       & Leg\\_room                &           NA &            NA &         NaN\\\\\n",
       "\tX-squared29 & Seat\\_comfort       & Baggage\\_handling        &           NA &            NA &         NaN\\\\\n",
       "\t⋮ & ⋮ & ⋮ & ⋮ & ⋮ & ⋮\\\\\n",
       "\tX-squared160 & Leg\\_room         & TypeTravel      &   79.29314 &  5.628691e-12 & 0.06495089\\\\\n",
       "\tX-squared161 & Leg\\_room         & Travel\\_Class    &  210.25995 &  1.239700e-42 & 0.14957553\\\\\n",
       "\tX-squared162 & Baggage\\_handling & Checkin\\_service &         NA &            NA &        NaN\\\\\n",
       "\tX-squared163 & Baggage\\_handling & Cleanliness     &         NA &            NA &        NaN\\\\\n",
       "\tX-squared164 & Baggage\\_handling & Online\\_boarding &         NA &            NA &        NaN\\\\\n",
       "\tX-squared165 & Baggage\\_handling & Gender          &         NA &            NA &        NaN\\\\\n",
       "\tX-squared166 & Baggage\\_handling & CustomerType    &   76.25177 &  2.713575e-12 & 0.06369308\\\\\n",
       "\tX-squared167 & Baggage\\_handling & TypeTravel      &   42.39022 &  6.389774e-06 & 0.04748978\\\\\n",
       "\tX-squared168 & Baggage\\_handling & Travel\\_Class    &  205.90815 &  1.546163e-42 & 0.14801954\\\\\n",
       "\tX-squared169 & Checkin\\_service  & Cleanliness     &         NA &            NA &        NaN\\\\\n",
       "\tX-squared170 & Checkin\\_service  & Online\\_boarding &         NA &            NA &        NaN\\\\\n",
       "\tX-squared171 & Checkin\\_service  & Gender          &         NA &            NA &        NaN\\\\\n",
       "\tX-squared172 & Checkin\\_service  & CustomerType    &         NA &            NA &        NaN\\\\\n",
       "\tX-squared173 & Checkin\\_service  & TypeTravel      &         NA &            NA &        NaN\\\\\n",
       "\tX-squared174 & Checkin\\_service  & Travel\\_Class    &         NA &            NA &        NaN\\\\\n",
       "\tX-squared175 & Cleanliness      & Online\\_boarding &         NA &            NA &        NaN\\\\\n",
       "\tX-squared176 & Cleanliness      & Gender          &         NA &            NA &        NaN\\\\\n",
       "\tX-squared177 & Cleanliness      & CustomerType    &         NA &            NA &        NaN\\\\\n",
       "\tX-squared178 & Cleanliness      & TypeTravel      &         NA &            NA &        NaN\\\\\n",
       "\tX-squared179 & Cleanliness      & Travel\\_Class    &         NA &            NA &        NaN\\\\\n",
       "\tX-squared180 & Online\\_boarding  & Gender          &         NA &            NA &        NaN\\\\\n",
       "\tX-squared181 & Online\\_boarding  & CustomerType    &         NA &            NA &        NaN\\\\\n",
       "\tX-squared182 & Online\\_boarding  & TypeTravel      &         NA &            NA &        NaN\\\\\n",
       "\tX-squared183 & Online\\_boarding  & Travel\\_Class    &         NA &            NA &        NaN\\\\\n",
       "\tX-squared184 & Gender           & CustomerType    &         NA &            NA &        NaN\\\\\n",
       "\tX-squared185 & Gender           & TypeTravel      &         NA &            NA &        NaN\\\\\n",
       "\tX-squared186 & Gender           & Travel\\_Class    &         NA &            NA &        NaN\\\\\n",
       "\tX-squared187 & CustomerType     & TypeTravel      &  864.88922 & 6.739461e-186 & 0.21450999\\\\\n",
       "\tX-squared188 & CustomerType     & Travel\\_Class    &   88.04464 &  7.609390e-20 & 0.09679072\\\\\n",
       "\tX-squared189 & TypeTravel       & Travel\\_Class    & 2519.09324 &  0.000000e+00 & 0.51773128\\\\\n",
       "\\end{tabular}\n"
      ],
      "text/markdown": [
       "\n",
       "A data.frame: 190 × 5\n",
       "\n",
       "| <!--/--> | Var1 &lt;chr&gt; | Var2 &lt;chr&gt; | Chi_Squared &lt;dbl&gt; | P_Value &lt;dbl&gt; | Cramers_V &lt;dbl&gt; |\n",
       "|---|---|---|---|---|---|\n",
       "| X-squared | Overall_Experience | Seat_comfort            |           NA |            NA |         NaN |\n",
       "| X-squared1 | Overall_Experience | Seat_Class              |    0.3558417 |  5.508247e-01 | 0.006153337 |\n",
       "| X-squared2 | Overall_Experience | Arrival_time_convenient |   13.5929257 |  3.452912e-02 | 0.038031088 |\n",
       "| X-squared3 | Overall_Experience | Catering                |  618.0773194 | 2.937796e-130 | 0.256450579 |\n",
       "| X-squared4 | Overall_Experience | Platform_location       |           NA |            NA |         NaN |\n",
       "| X-squared5 | Overall_Experience | Onboardwifi_service     |  529.2869303 | 4.115076e-111 | 0.237316462 |\n",
       "| X-squared6 | Overall_Experience | Onboard_entertainment   | 3808.0624422 |  0.000000e+00 | 0.636552620 |\n",
       "| X-squared7 | Overall_Experience | Online_support          |           NA |            NA |         NaN |\n",
       "| X-squared8 | Overall_Experience | Onlinebooking_Ease      | 1806.3509506 |  0.000000e+00 | 0.438412921 |\n",
       "| X-squared9 | Overall_Experience | Onboard_service         |           NA |            NA |         NaN |\n",
       "| X-squared10 | Overall_Experience | Leg_room                |  992.2061091 | 4.335564e-211 | 0.324925075 |\n",
       "| X-squared11 | Overall_Experience | Baggage_handling        |  857.7691208 | 3.666017e-183 | 0.302111657 |\n",
       "| X-squared12 | Overall_Experience | Checkin_service         |           NA |            NA |         NaN |\n",
       "| X-squared13 | Overall_Experience | Cleanliness             |           NA |            NA |         NaN |\n",
       "| X-squared14 | Overall_Experience | Online_boarding         |           NA |            NA |         NaN |\n",
       "| X-squared15 | Overall_Experience | Gender                  |           NA |            NA |         NaN |\n",
       "| X-squared16 | Overall_Experience | CustomerType            |  718.9507248 | 7.617873e-157 | 0.276587050 |\n",
       "| X-squared17 | Overall_Experience | TypeTravel              |  110.5064868 |  1.008838e-24 | 0.108436668 |\n",
       "| X-squared18 | Overall_Experience | Travel_Class            |  927.8679313 | 8.585566e-204 | 0.314213878 |\n",
       "| X-squared19 | Seat_comfort       | Seat_Class              |           NA |            NA |         NaN |\n",
       "| X-squared20 | Seat_comfort       | Arrival_time_convenient |           NA |            NA |         NaN |\n",
       "| X-squared21 | Seat_comfort       | Catering                |           NA |            NA |         NaN |\n",
       "| X-squared22 | Seat_comfort       | Platform_location       |           NA |            NA |         NaN |\n",
       "| X-squared23 | Seat_comfort       | Onboardwifi_service     |           NA |            NA |         NaN |\n",
       "| X-squared24 | Seat_comfort       | Onboard_entertainment   |           NA |            NA |         NaN |\n",
       "| X-squared25 | Seat_comfort       | Online_support          |           NA |            NA |         NaN |\n",
       "| X-squared26 | Seat_comfort       | Onlinebooking_Ease      |           NA |            NA |         NaN |\n",
       "| X-squared27 | Seat_comfort       | Onboard_service         |           NA |            NA |         NaN |\n",
       "| X-squared28 | Seat_comfort       | Leg_room                |           NA |            NA |         NaN |\n",
       "| X-squared29 | Seat_comfort       | Baggage_handling        |           NA |            NA |         NaN |\n",
       "| ⋮ | ⋮ | ⋮ | ⋮ | ⋮ | ⋮ |\n",
       "| X-squared160 | Leg_room         | TypeTravel      |   79.29314 |  5.628691e-12 | 0.06495089 |\n",
       "| X-squared161 | Leg_room         | Travel_Class    |  210.25995 |  1.239700e-42 | 0.14957553 |\n",
       "| X-squared162 | Baggage_handling | Checkin_service |         NA |            NA |        NaN |\n",
       "| X-squared163 | Baggage_handling | Cleanliness     |         NA |            NA |        NaN |\n",
       "| X-squared164 | Baggage_handling | Online_boarding |         NA |            NA |        NaN |\n",
       "| X-squared165 | Baggage_handling | Gender          |         NA |            NA |        NaN |\n",
       "| X-squared166 | Baggage_handling | CustomerType    |   76.25177 |  2.713575e-12 | 0.06369308 |\n",
       "| X-squared167 | Baggage_handling | TypeTravel      |   42.39022 |  6.389774e-06 | 0.04748978 |\n",
       "| X-squared168 | Baggage_handling | Travel_Class    |  205.90815 |  1.546163e-42 | 0.14801954 |\n",
       "| X-squared169 | Checkin_service  | Cleanliness     |         NA |            NA |        NaN |\n",
       "| X-squared170 | Checkin_service  | Online_boarding |         NA |            NA |        NaN |\n",
       "| X-squared171 | Checkin_service  | Gender          |         NA |            NA |        NaN |\n",
       "| X-squared172 | Checkin_service  | CustomerType    |         NA |            NA |        NaN |\n",
       "| X-squared173 | Checkin_service  | TypeTravel      |         NA |            NA |        NaN |\n",
       "| X-squared174 | Checkin_service  | Travel_Class    |         NA |            NA |        NaN |\n",
       "| X-squared175 | Cleanliness      | Online_boarding |         NA |            NA |        NaN |\n",
       "| X-squared176 | Cleanliness      | Gender          |         NA |            NA |        NaN |\n",
       "| X-squared177 | Cleanliness      | CustomerType    |         NA |            NA |        NaN |\n",
       "| X-squared178 | Cleanliness      | TypeTravel      |         NA |            NA |        NaN |\n",
       "| X-squared179 | Cleanliness      | Travel_Class    |         NA |            NA |        NaN |\n",
       "| X-squared180 | Online_boarding  | Gender          |         NA |            NA |        NaN |\n",
       "| X-squared181 | Online_boarding  | CustomerType    |         NA |            NA |        NaN |\n",
       "| X-squared182 | Online_boarding  | TypeTravel      |         NA |            NA |        NaN |\n",
       "| X-squared183 | Online_boarding  | Travel_Class    |         NA |            NA |        NaN |\n",
       "| X-squared184 | Gender           | CustomerType    |         NA |            NA |        NaN |\n",
       "| X-squared185 | Gender           | TypeTravel      |         NA |            NA |        NaN |\n",
       "| X-squared186 | Gender           | Travel_Class    |         NA |            NA |        NaN |\n",
       "| X-squared187 | CustomerType     | TypeTravel      |  864.88922 | 6.739461e-186 | 0.21450999 |\n",
       "| X-squared188 | CustomerType     | Travel_Class    |   88.04464 |  7.609390e-20 | 0.09679072 |\n",
       "| X-squared189 | TypeTravel       | Travel_Class    | 2519.09324 |  0.000000e+00 | 0.51773128 |\n",
       "\n"
      ],
      "text/plain": [
       "             Var1               Var2                    Chi_Squared \n",
       "X-squared    Overall_Experience Seat_comfort                      NA\n",
       "X-squared1   Overall_Experience Seat_Class                 0.3558417\n",
       "X-squared2   Overall_Experience Arrival_time_convenient   13.5929257\n",
       "X-squared3   Overall_Experience Catering                 618.0773194\n",
       "X-squared4   Overall_Experience Platform_location                 NA\n",
       "X-squared5   Overall_Experience Onboardwifi_service      529.2869303\n",
       "X-squared6   Overall_Experience Onboard_entertainment   3808.0624422\n",
       "X-squared7   Overall_Experience Online_support                    NA\n",
       "X-squared8   Overall_Experience Onlinebooking_Ease      1806.3509506\n",
       "X-squared9   Overall_Experience Onboard_service                   NA\n",
       "X-squared10  Overall_Experience Leg_room                 992.2061091\n",
       "X-squared11  Overall_Experience Baggage_handling         857.7691208\n",
       "X-squared12  Overall_Experience Checkin_service                   NA\n",
       "X-squared13  Overall_Experience Cleanliness                       NA\n",
       "X-squared14  Overall_Experience Online_boarding                   NA\n",
       "X-squared15  Overall_Experience Gender                            NA\n",
       "X-squared16  Overall_Experience CustomerType             718.9507248\n",
       "X-squared17  Overall_Experience TypeTravel               110.5064868\n",
       "X-squared18  Overall_Experience Travel_Class             927.8679313\n",
       "X-squared19  Seat_comfort       Seat_Class                        NA\n",
       "X-squared20  Seat_comfort       Arrival_time_convenient           NA\n",
       "X-squared21  Seat_comfort       Catering                          NA\n",
       "X-squared22  Seat_comfort       Platform_location                 NA\n",
       "X-squared23  Seat_comfort       Onboardwifi_service               NA\n",
       "X-squared24  Seat_comfort       Onboard_entertainment             NA\n",
       "X-squared25  Seat_comfort       Online_support                    NA\n",
       "X-squared26  Seat_comfort       Onlinebooking_Ease                NA\n",
       "X-squared27  Seat_comfort       Onboard_service                   NA\n",
       "X-squared28  Seat_comfort       Leg_room                          NA\n",
       "X-squared29  Seat_comfort       Baggage_handling                  NA\n",
       "⋮            ⋮                  ⋮                       ⋮           \n",
       "X-squared160 Leg_room           TypeTravel                79.29314  \n",
       "X-squared161 Leg_room           Travel_Class             210.25995  \n",
       "X-squared162 Baggage_handling   Checkin_service                 NA  \n",
       "X-squared163 Baggage_handling   Cleanliness                     NA  \n",
       "X-squared164 Baggage_handling   Online_boarding                 NA  \n",
       "X-squared165 Baggage_handling   Gender                          NA  \n",
       "X-squared166 Baggage_handling   CustomerType              76.25177  \n",
       "X-squared167 Baggage_handling   TypeTravel                42.39022  \n",
       "X-squared168 Baggage_handling   Travel_Class             205.90815  \n",
       "X-squared169 Checkin_service    Cleanliness                     NA  \n",
       "X-squared170 Checkin_service    Online_boarding                 NA  \n",
       "X-squared171 Checkin_service    Gender                          NA  \n",
       "X-squared172 Checkin_service    CustomerType                    NA  \n",
       "X-squared173 Checkin_service    TypeTravel                      NA  \n",
       "X-squared174 Checkin_service    Travel_Class                    NA  \n",
       "X-squared175 Cleanliness        Online_boarding                 NA  \n",
       "X-squared176 Cleanliness        Gender                          NA  \n",
       "X-squared177 Cleanliness        CustomerType                    NA  \n",
       "X-squared178 Cleanliness        TypeTravel                      NA  \n",
       "X-squared179 Cleanliness        Travel_Class                    NA  \n",
       "X-squared180 Online_boarding    Gender                          NA  \n",
       "X-squared181 Online_boarding    CustomerType                    NA  \n",
       "X-squared182 Online_boarding    TypeTravel                      NA  \n",
       "X-squared183 Online_boarding    Travel_Class                    NA  \n",
       "X-squared184 Gender             CustomerType                    NA  \n",
       "X-squared185 Gender             TypeTravel                      NA  \n",
       "X-squared186 Gender             Travel_Class                    NA  \n",
       "X-squared187 CustomerType       TypeTravel               864.88922  \n",
       "X-squared188 CustomerType       Travel_Class              88.04464  \n",
       "X-squared189 TypeTravel         Travel_Class            2519.09324  \n",
       "             P_Value       Cramers_V  \n",
       "X-squared               NA         NaN\n",
       "X-squared1    5.508247e-01 0.006153337\n",
       "X-squared2    3.452912e-02 0.038031088\n",
       "X-squared3   2.937796e-130 0.256450579\n",
       "X-squared4              NA         NaN\n",
       "X-squared5   4.115076e-111 0.237316462\n",
       "X-squared6    0.000000e+00 0.636552620\n",
       "X-squared7              NA         NaN\n",
       "X-squared8    0.000000e+00 0.438412921\n",
       "X-squared9              NA         NaN\n",
       "X-squared10  4.335564e-211 0.324925075\n",
       "X-squared11  3.666017e-183 0.302111657\n",
       "X-squared12             NA         NaN\n",
       "X-squared13             NA         NaN\n",
       "X-squared14             NA         NaN\n",
       "X-squared15             NA         NaN\n",
       "X-squared16  7.617873e-157 0.276587050\n",
       "X-squared17   1.008838e-24 0.108436668\n",
       "X-squared18  8.585566e-204 0.314213878\n",
       "X-squared19             NA         NaN\n",
       "X-squared20             NA         NaN\n",
       "X-squared21             NA         NaN\n",
       "X-squared22             NA         NaN\n",
       "X-squared23             NA         NaN\n",
       "X-squared24             NA         NaN\n",
       "X-squared25             NA         NaN\n",
       "X-squared26             NA         NaN\n",
       "X-squared27             NA         NaN\n",
       "X-squared28             NA         NaN\n",
       "X-squared29             NA         NaN\n",
       "⋮            ⋮             ⋮          \n",
       "X-squared160  5.628691e-12 0.06495089 \n",
       "X-squared161  1.239700e-42 0.14957553 \n",
       "X-squared162            NA        NaN \n",
       "X-squared163            NA        NaN \n",
       "X-squared164            NA        NaN \n",
       "X-squared165            NA        NaN \n",
       "X-squared166  2.713575e-12 0.06369308 \n",
       "X-squared167  6.389774e-06 0.04748978 \n",
       "X-squared168  1.546163e-42 0.14801954 \n",
       "X-squared169            NA        NaN \n",
       "X-squared170            NA        NaN \n",
       "X-squared171            NA        NaN \n",
       "X-squared172            NA        NaN \n",
       "X-squared173            NA        NaN \n",
       "X-squared174            NA        NaN \n",
       "X-squared175            NA        NaN \n",
       "X-squared176            NA        NaN \n",
       "X-squared177            NA        NaN \n",
       "X-squared178            NA        NaN \n",
       "X-squared179            NA        NaN \n",
       "X-squared180            NA        NaN \n",
       "X-squared181            NA        NaN \n",
       "X-squared182            NA        NaN \n",
       "X-squared183            NA        NaN \n",
       "X-squared184            NA        NaN \n",
       "X-squared185            NA        NaN \n",
       "X-squared186            NA        NaN \n",
       "X-squared187 6.739461e-186 0.21450999 \n",
       "X-squared188  7.609390e-20 0.09679072 \n",
       "X-squared189  0.000000e+00 0.51773128 "
      ]
     },
     "metadata": {},
     "output_type": "display_data"
    }
   ],
   "source": [
    "association_results"
   ]
  },
  {
   "cell_type": "markdown",
   "id": "654d73d1-41c4-45e3-92ce-7af049f1d5c8",
   "metadata": {},
   "source": [
    "We see that there are quite a chi-squared tests that failed. We will get rid of the rows that failed. Generally, a Cramer's V association of 0.25 or above shows significant association. We will filter the dataframe to check for this conditoion too."
   ]
  },
  {
   "cell_type": "code",
   "execution_count": 20,
   "id": "05ee02f4-9f8a-4e38-9de6-e02ea7ab8f7c",
   "metadata": {},
   "outputs": [
    {
     "data": {
      "text/html": [
       "<table class=\"dataframe\">\n",
       "<caption>A data.frame: 16 × 5</caption>\n",
       "<thead>\n",
       "\t<tr><th></th><th scope=col>Var1</th><th scope=col>Var2</th><th scope=col>Chi_Squared</th><th scope=col>P_Value</th><th scope=col>Cramers_V</th></tr>\n",
       "\t<tr><th></th><th scope=col>&lt;chr&gt;</th><th scope=col>&lt;chr&gt;</th><th scope=col>&lt;dbl&gt;</th><th scope=col>&lt;dbl&gt;</th><th scope=col>&lt;dbl&gt;</th></tr>\n",
       "</thead>\n",
       "<tbody>\n",
       "\t<tr><th scope=row>X-squared3</th><td>Overall_Experience     </td><td>Catering             </td><td>  618.0773</td><td>2.937796e-130</td><td>0.2564506</td></tr>\n",
       "\t<tr><th scope=row>X-squared6</th><td>Overall_Experience     </td><td>Onboard_entertainment</td><td> 3808.0624</td><td> 0.000000e+00</td><td>0.6365526</td></tr>\n",
       "\t<tr><th scope=row>X-squared8</th><td>Overall_Experience     </td><td>Onlinebooking_Ease   </td><td> 1806.3510</td><td> 0.000000e+00</td><td>0.4384129</td></tr>\n",
       "\t<tr><th scope=row>X-squared10</th><td>Overall_Experience     </td><td>Leg_room             </td><td>  992.2061</td><td>4.335564e-211</td><td>0.3249251</td></tr>\n",
       "\t<tr><th scope=row>X-squared11</th><td>Overall_Experience     </td><td>Baggage_handling     </td><td>  857.7691</td><td>3.666017e-183</td><td>0.3021117</td></tr>\n",
       "\t<tr><th scope=row>X-squared16</th><td>Overall_Experience     </td><td>CustomerType         </td><td>  718.9507</td><td>7.617873e-157</td><td>0.2765871</td></tr>\n",
       "\t<tr><th scope=row>X-squared18</th><td>Overall_Experience     </td><td>Travel_Class         </td><td>  927.8679</td><td>8.585566e-204</td><td>0.3142139</td></tr>\n",
       "\t<tr><th scope=row>X-squared54</th><td>Arrival_time_convenient</td><td>Catering             </td><td>11754.2662</td><td> 0.000000e+00</td><td>0.4565669</td></tr>\n",
       "\t<tr><th scope=row>X-squared72</th><td>Catering               </td><td>Onboard_entertainment</td><td> 8717.1552</td><td> 0.000000e+00</td><td>0.3931824</td></tr>\n",
       "\t<tr><th scope=row>X-squared99</th><td>Onboardwifi_service    </td><td>Onboard_entertainment</td><td>10907.9394</td><td> 0.000000e+00</td><td>0.4398231</td></tr>\n",
       "\t<tr><th scope=row>X-squared101</th><td>Onboardwifi_service    </td><td>Onlinebooking_Ease   </td><td>15203.0022</td><td> 0.000000e+00</td><td>0.5192438</td></tr>\n",
       "\t<tr><th scope=row>X-squared123</th><td>Onboard_entertainment  </td><td>Travel_Class         </td><td>  628.0131</td><td>2.110091e-132</td><td>0.2585036</td></tr>\n",
       "\t<tr><th scope=row>X-squared136</th><td>Onlinebooking_Ease     </td><td>Leg_room             </td><td> 5293.4418</td><td> 0.000000e+00</td><td>0.3063908</td></tr>\n",
       "\t<tr><th scope=row>X-squared137</th><td>Onlinebooking_Ease     </td><td>Baggage_handling     </td><td> 7159.9584</td><td> 0.000000e+00</td><td>0.3903485</td></tr>\n",
       "\t<tr><th scope=row>X-squared154</th><td>Leg_room               </td><td>Baggage_handling     </td><td> 5528.5730</td><td> 0.000000e+00</td><td>0.3430076</td></tr>\n",
       "\t<tr><th scope=row>X-squared189</th><td>TypeTravel             </td><td>Travel_Class         </td><td> 2519.0932</td><td> 0.000000e+00</td><td>0.5177313</td></tr>\n",
       "</tbody>\n",
       "</table>\n"
      ],
      "text/latex": [
       "A data.frame: 16 × 5\n",
       "\\begin{tabular}{r|lllll}\n",
       "  & Var1 & Var2 & Chi\\_Squared & P\\_Value & Cramers\\_V\\\\\n",
       "  & <chr> & <chr> & <dbl> & <dbl> & <dbl>\\\\\n",
       "\\hline\n",
       "\tX-squared3 & Overall\\_Experience      & Catering              &   618.0773 & 2.937796e-130 & 0.2564506\\\\\n",
       "\tX-squared6 & Overall\\_Experience      & Onboard\\_entertainment &  3808.0624 &  0.000000e+00 & 0.6365526\\\\\n",
       "\tX-squared8 & Overall\\_Experience      & Onlinebooking\\_Ease    &  1806.3510 &  0.000000e+00 & 0.4384129\\\\\n",
       "\tX-squared10 & Overall\\_Experience      & Leg\\_room              &   992.2061 & 4.335564e-211 & 0.3249251\\\\\n",
       "\tX-squared11 & Overall\\_Experience      & Baggage\\_handling      &   857.7691 & 3.666017e-183 & 0.3021117\\\\\n",
       "\tX-squared16 & Overall\\_Experience      & CustomerType          &   718.9507 & 7.617873e-157 & 0.2765871\\\\\n",
       "\tX-squared18 & Overall\\_Experience      & Travel\\_Class          &   927.8679 & 8.585566e-204 & 0.3142139\\\\\n",
       "\tX-squared54 & Arrival\\_time\\_convenient & Catering              & 11754.2662 &  0.000000e+00 & 0.4565669\\\\\n",
       "\tX-squared72 & Catering                & Onboard\\_entertainment &  8717.1552 &  0.000000e+00 & 0.3931824\\\\\n",
       "\tX-squared99 & Onboardwifi\\_service     & Onboard\\_entertainment & 10907.9394 &  0.000000e+00 & 0.4398231\\\\\n",
       "\tX-squared101 & Onboardwifi\\_service     & Onlinebooking\\_Ease    & 15203.0022 &  0.000000e+00 & 0.5192438\\\\\n",
       "\tX-squared123 & Onboard\\_entertainment   & Travel\\_Class          &   628.0131 & 2.110091e-132 & 0.2585036\\\\\n",
       "\tX-squared136 & Onlinebooking\\_Ease      & Leg\\_room              &  5293.4418 &  0.000000e+00 & 0.3063908\\\\\n",
       "\tX-squared137 & Onlinebooking\\_Ease      & Baggage\\_handling      &  7159.9584 &  0.000000e+00 & 0.3903485\\\\\n",
       "\tX-squared154 & Leg\\_room                & Baggage\\_handling      &  5528.5730 &  0.000000e+00 & 0.3430076\\\\\n",
       "\tX-squared189 & TypeTravel              & Travel\\_Class          &  2519.0932 &  0.000000e+00 & 0.5177313\\\\\n",
       "\\end{tabular}\n"
      ],
      "text/markdown": [
       "\n",
       "A data.frame: 16 × 5\n",
       "\n",
       "| <!--/--> | Var1 &lt;chr&gt; | Var2 &lt;chr&gt; | Chi_Squared &lt;dbl&gt; | P_Value &lt;dbl&gt; | Cramers_V &lt;dbl&gt; |\n",
       "|---|---|---|---|---|---|\n",
       "| X-squared3 | Overall_Experience      | Catering              |   618.0773 | 2.937796e-130 | 0.2564506 |\n",
       "| X-squared6 | Overall_Experience      | Onboard_entertainment |  3808.0624 |  0.000000e+00 | 0.6365526 |\n",
       "| X-squared8 | Overall_Experience      | Onlinebooking_Ease    |  1806.3510 |  0.000000e+00 | 0.4384129 |\n",
       "| X-squared10 | Overall_Experience      | Leg_room              |   992.2061 | 4.335564e-211 | 0.3249251 |\n",
       "| X-squared11 | Overall_Experience      | Baggage_handling      |   857.7691 | 3.666017e-183 | 0.3021117 |\n",
       "| X-squared16 | Overall_Experience      | CustomerType          |   718.9507 | 7.617873e-157 | 0.2765871 |\n",
       "| X-squared18 | Overall_Experience      | Travel_Class          |   927.8679 | 8.585566e-204 | 0.3142139 |\n",
       "| X-squared54 | Arrival_time_convenient | Catering              | 11754.2662 |  0.000000e+00 | 0.4565669 |\n",
       "| X-squared72 | Catering                | Onboard_entertainment |  8717.1552 |  0.000000e+00 | 0.3931824 |\n",
       "| X-squared99 | Onboardwifi_service     | Onboard_entertainment | 10907.9394 |  0.000000e+00 | 0.4398231 |\n",
       "| X-squared101 | Onboardwifi_service     | Onlinebooking_Ease    | 15203.0022 |  0.000000e+00 | 0.5192438 |\n",
       "| X-squared123 | Onboard_entertainment   | Travel_Class          |   628.0131 | 2.110091e-132 | 0.2585036 |\n",
       "| X-squared136 | Onlinebooking_Ease      | Leg_room              |  5293.4418 |  0.000000e+00 | 0.3063908 |\n",
       "| X-squared137 | Onlinebooking_Ease      | Baggage_handling      |  7159.9584 |  0.000000e+00 | 0.3903485 |\n",
       "| X-squared154 | Leg_room                | Baggage_handling      |  5528.5730 |  0.000000e+00 | 0.3430076 |\n",
       "| X-squared189 | TypeTravel              | Travel_Class          |  2519.0932 |  0.000000e+00 | 0.5177313 |\n",
       "\n"
      ],
      "text/plain": [
       "             Var1                    Var2                  Chi_Squared\n",
       "X-squared3   Overall_Experience      Catering                618.0773 \n",
       "X-squared6   Overall_Experience      Onboard_entertainment  3808.0624 \n",
       "X-squared8   Overall_Experience      Onlinebooking_Ease     1806.3510 \n",
       "X-squared10  Overall_Experience      Leg_room                992.2061 \n",
       "X-squared11  Overall_Experience      Baggage_handling        857.7691 \n",
       "X-squared16  Overall_Experience      CustomerType            718.9507 \n",
       "X-squared18  Overall_Experience      Travel_Class            927.8679 \n",
       "X-squared54  Arrival_time_convenient Catering              11754.2662 \n",
       "X-squared72  Catering                Onboard_entertainment  8717.1552 \n",
       "X-squared99  Onboardwifi_service     Onboard_entertainment 10907.9394 \n",
       "X-squared101 Onboardwifi_service     Onlinebooking_Ease    15203.0022 \n",
       "X-squared123 Onboard_entertainment   Travel_Class            628.0131 \n",
       "X-squared136 Onlinebooking_Ease      Leg_room               5293.4418 \n",
       "X-squared137 Onlinebooking_Ease      Baggage_handling       7159.9584 \n",
       "X-squared154 Leg_room                Baggage_handling       5528.5730 \n",
       "X-squared189 TypeTravel              Travel_Class           2519.0932 \n",
       "             P_Value       Cramers_V\n",
       "X-squared3   2.937796e-130 0.2564506\n",
       "X-squared6    0.000000e+00 0.6365526\n",
       "X-squared8    0.000000e+00 0.4384129\n",
       "X-squared10  4.335564e-211 0.3249251\n",
       "X-squared11  3.666017e-183 0.3021117\n",
       "X-squared16  7.617873e-157 0.2765871\n",
       "X-squared18  8.585566e-204 0.3142139\n",
       "X-squared54   0.000000e+00 0.4565669\n",
       "X-squared72   0.000000e+00 0.3931824\n",
       "X-squared99   0.000000e+00 0.4398231\n",
       "X-squared101  0.000000e+00 0.5192438\n",
       "X-squared123 2.110091e-132 0.2585036\n",
       "X-squared136  0.000000e+00 0.3063908\n",
       "X-squared137  0.000000e+00 0.3903485\n",
       "X-squared154  0.000000e+00 0.3430076\n",
       "X-squared189  0.000000e+00 0.5177313"
      ]
     },
     "metadata": {},
     "output_type": "display_data"
    }
   ],
   "source": [
    "association_results <- association_results[!is.nan(association_results$Cramers_V) & association_results$Cramers_V >= 0.25, ]\n",
    "association_results"
   ]
  },
  {
   "cell_type": "markdown",
   "id": "14058640-5c76-4c5d-b062-795c3be73de0",
   "metadata": {},
   "source": [
    "We can narrow down our search to the 7 predictors that show high association with `Overall_Experience` in the first 7 rows, when categorical variables are concerned.\n",
    "\n",
    "Upon checking for multicollinearity between any of the 7 predictors - `Catering`, `Onboard_entertainment`, `Onlinebooking_Ease`, `Leg_room`, `Baggage_handling`, `CustomerType`, and `Travel_Class` - we find `Onboard_entertainment`, `Onlinebooking_Ease`, `Baggage_handling`, and `CustomerType` to be the most significant. \n",
    "\n",
    "`Onboard_entertainment` trumps over `Catering` and `Travel_Class`, due to its stronger association of 0.6365526 with `Overall_Experience`. Similary, `Onlinebooking_Ease` trumps over `Leg_room`. \n",
    "\n",
    "The chosen 4 predictors are not correlated to each other and demonstrate strong relationships with the response variable, `Overall_Experience`."
   ]
  },
  {
   "cell_type": "markdown",
   "id": "10f1bbfd-08f3-4fb7-9ca2-054dcff447e7",
   "metadata": {},
   "source": [
    "Let's check for multicollinearity amongst numerical variables."
   ]
  },
  {
   "cell_type": "code",
   "execution_count": 21,
   "id": "322ca98e-5589-455e-a521-545956a4257c",
   "metadata": {},
   "outputs": [
    {
     "data": {
      "text/html": [
       "<table class=\"dataframe\">\n",
       "<caption>A matrix: 4 × 4 of type dbl</caption>\n",
       "<thead>\n",
       "\t<tr><th></th><th scope=col>Age</th><th scope=col>Travel_Distance</th><th scope=col>DepartureDelay_in_Mins</th><th scope=col>ArrivalDelay_in_Mins</th></tr>\n",
       "</thead>\n",
       "<tbody>\n",
       "\t<tr><th scope=row>Age</th><td> 1.000000000</td><td>-0.2553502</td><td>0.003081416</td><td>0.005747269</td></tr>\n",
       "\t<tr><th scope=row>Travel_Distance</th><td>-0.255350203</td><td> 1.0000000</td><td>0.107836205</td><td>0.105132518</td></tr>\n",
       "\t<tr><th scope=row>DepartureDelay_in_Mins</th><td> 0.003081416</td><td> 0.1078362</td><td>1.000000000</td><td>0.967571942</td></tr>\n",
       "\t<tr><th scope=row>ArrivalDelay_in_Mins</th><td> 0.005747269</td><td> 0.1051325</td><td>0.967571942</td><td>1.000000000</td></tr>\n",
       "</tbody>\n",
       "</table>\n"
      ],
      "text/latex": [
       "A matrix: 4 × 4 of type dbl\n",
       "\\begin{tabular}{r|llll}\n",
       "  & Age & Travel\\_Distance & DepartureDelay\\_in\\_Mins & ArrivalDelay\\_in\\_Mins\\\\\n",
       "\\hline\n",
       "\tAge &  1.000000000 & -0.2553502 & 0.003081416 & 0.005747269\\\\\n",
       "\tTravel\\_Distance & -0.255350203 &  1.0000000 & 0.107836205 & 0.105132518\\\\\n",
       "\tDepartureDelay\\_in\\_Mins &  0.003081416 &  0.1078362 & 1.000000000 & 0.967571942\\\\\n",
       "\tArrivalDelay\\_in\\_Mins &  0.005747269 &  0.1051325 & 0.967571942 & 1.000000000\\\\\n",
       "\\end{tabular}\n"
      ],
      "text/markdown": [
       "\n",
       "A matrix: 4 × 4 of type dbl\n",
       "\n",
       "| <!--/--> | Age | Travel_Distance | DepartureDelay_in_Mins | ArrivalDelay_in_Mins |\n",
       "|---|---|---|---|---|\n",
       "| Age |  1.000000000 | -0.2553502 | 0.003081416 | 0.005747269 |\n",
       "| Travel_Distance | -0.255350203 |  1.0000000 | 0.107836205 | 0.105132518 |\n",
       "| DepartureDelay_in_Mins |  0.003081416 |  0.1078362 | 1.000000000 | 0.967571942 |\n",
       "| ArrivalDelay_in_Mins |  0.005747269 |  0.1051325 | 0.967571942 | 1.000000000 |\n",
       "\n"
      ],
      "text/plain": [
       "                       Age          Travel_Distance DepartureDelay_in_Mins\n",
       "Age                     1.000000000 -0.2553502      0.003081416           \n",
       "Travel_Distance        -0.255350203  1.0000000      0.107836205           \n",
       "DepartureDelay_in_Mins  0.003081416  0.1078362      1.000000000           \n",
       "ArrivalDelay_in_Mins    0.005747269  0.1051325      0.967571942           \n",
       "                       ArrivalDelay_in_Mins\n",
       "Age                    0.005747269         \n",
       "Travel_Distance        0.105132518         \n",
       "DepartureDelay_in_Mins 0.967571942         \n",
       "ArrivalDelay_in_Mins   1.000000000         "
      ]
     },
     "metadata": {},
     "output_type": "display_data"
    }
   ],
   "source": [
    "numerical_data <- full_sampled[c(\"Age\", \"Travel_Distance\", \"DepartureDelay_in_Mins\", \"ArrivalDelay_in_Mins\")]\n",
    "correlation_matrix <- cor(numerical_data, use=\"complete.obs\")\n",
    "correlation_matrix"
   ]
  },
  {
   "cell_type": "markdown",
   "id": "a1992ce0-cec6-488d-9e16-e2724fc08599",
   "metadata": {},
   "source": [
    "## Principal Component Analysis"
   ]
  },
  {
   "cell_type": "code",
   "execution_count": 22,
   "id": "3e59356e-b754-4e33-a5c4-8518e8d1fcb4",
   "metadata": {},
   "outputs": [
    {
     "data": {
      "image/png": "[encoded data removed]",
      "text/plain": [
       "plot without title"
      ]
     },
     "metadata": {
      "image/png": {
       "height": 420,
       "width": 420
      }
     },
     "output_type": "display_data"
    }
   ],
   "source": [
    "numcols = full_complete[, c(\"Age\", \"Travel_Distance\", \"DepartureDelay_in_Mins\", \"ArrivalDelay_in_Mins\")]\n",
    "pca <- prcomp(numcols, scale=T)\n",
    "pca.var <- pca$sdev^2\n",
    "pca.var.per <- round(pca.var/sum(pca.var) * 100, 2)\n",
    "barplot(pca.var.per, xlab=\"Principal Component\", ylab=\"Percentage Variation\")"
   ]
  },
  {
   "cell_type": "markdown",
   "id": "b5081b38-321c-4f6b-8956-0da60f3d7051",
   "metadata": {},
   "source": [
    "We are more concerned about the `Overall_Experience` of onboarding passengers. Hence, we'll neglect `ArrivalDelay_in_Mins` since the survey collects this information after the passengers off-board."
   ]
  },
  {
   "cell_type": "markdown",
   "id": "02238409-8507-4feb-9338-2680c4d0a052",
   "metadata": {},
   "source": [
    "## Model Selection and Model Fitting"
   ]
  },
  {
   "cell_type": "markdown",
   "id": "273e0ec7-3fdc-4e97-a238-63b14ee0d487",
   "metadata": {},
   "source": [
    "Now that we have successfully reduced data complexity. We can go ahead and fit a logistic regression on our population data with our chosen variables. And we continue our analysis to find the 3 best predictors."
   ]
  },
  {
   "cell_type": "markdown",
   "id": "52ae062d-2904-4ff2-9700-1625a8d29486",
   "metadata": {},
   "source": [
    "### Fitting a Logistic Regression Model"
   ]
  },
  {
   "cell_type": "code",
   "execution_count": 23,
   "id": "7514eda4-87ea-464c-be6f-d57eacd9ed0a",
   "metadata": {},
   "outputs": [
    {
     "data": {
      "text/plain": [
       "\n",
       "Call:\n",
       "glm(formula = Overall_Experience ~ Onboard_entertainment + Onlinebooking_Ease + \n",
       "    Baggage_handling + CustomerType + Age + Travel_Distance + \n",
       "    DepartureDelay_in_Mins, family = binomial(), data = full_complete)\n",
       "\n",
       "Coefficients:\n",
       "                                        Estimate Std. Error z value Pr(>|z|)\n",
       "(Intercept)                            9.757e-01  6.337e-01   1.540 0.123630\n",
       "Onboard_entertainmentacceptable       -1.754e+00  5.361e-01  -3.272 0.001068\n",
       "Onboard_entertainmentexcellent         2.510e+00  5.368e-01   4.676 2.93e-06\n",
       "Onboard_entertainmentextremely poor    7.476e-01  5.382e-01   1.389 0.164801\n",
       "Onboard_entertainmentgood              3.849e-01  5.359e-01   0.718 0.472648\n",
       "Onboard_entertainmentneed improvement -1.841e+00  5.363e-01  -3.433 0.000596\n",
       "Onboard_entertainmentpoor             -1.607e+00  5.366e-01  -2.995 0.002743\n",
       "Onlinebooking_Easeacceptable          -1.458e+00  3.725e-01  -3.915 9.05e-05\n",
       "Onlinebooking_Easeexcellent           -6.004e-01  3.724e-01  -1.612 0.106868\n",
       "Onlinebooking_Easeextremely poor      -1.183e+01  4.563e+01  -0.259 0.795515\n",
       "Onlinebooking_Easegood                -5.206e-01  3.722e-01  -1.399 0.161811\n",
       "Onlinebooking_Easeneed improvement    -1.834e+00  3.726e-01  -4.923 8.53e-07\n",
       "Onlinebooking_Easepoor                -2.511e+00  3.732e-01  -6.727 1.73e-11\n",
       "Baggage_handlingacceptable            -2.771e-01  2.696e-01  -1.028 0.304112\n",
       "Baggage_handlingexcellent              1.203e+00  2.693e-01   4.468 7.91e-06\n",
       "Baggage_handlinggood                   5.610e-01  2.690e-01   2.085 0.037070\n",
       "Baggage_handlingneed improvement       1.402e-01  2.702e-01   0.519 0.604004\n",
       "Baggage_handlingpoor                   2.606e-01  2.713e-01   0.961 0.336735\n",
       "CustomerTypedisloyal Customer         -1.077e+00  3.906e-02 -27.566  < 2e-16\n",
       "CustomerTypeLoyal Customer             2.443e-01  3.174e-02   7.697 1.39e-14\n",
       "Age                                    4.780e-03  6.545e-04   7.303 2.81e-13\n",
       "Travel_Distance                       -2.546e-05  9.749e-06  -2.611 0.009021\n",
       "DepartureDelay_in_Mins                -4.527e-03  2.611e-04 -17.341  < 2e-16\n",
       "                                         \n",
       "(Intercept)                              \n",
       "Onboard_entertainmentacceptable       ** \n",
       "Onboard_entertainmentexcellent        ***\n",
       "Onboard_entertainmentextremely poor      \n",
       "Onboard_entertainmentgood                \n",
       "Onboard_entertainmentneed improvement ***\n",
       "Onboard_entertainmentpoor             ** \n",
       "Onlinebooking_Easeacceptable          ***\n",
       "Onlinebooking_Easeexcellent              \n",
       "Onlinebooking_Easeextremely poor         \n",
       "Onlinebooking_Easegood                   \n",
       "Onlinebooking_Easeneed improvement    ***\n",
       "Onlinebooking_Easepoor                ***\n",
       "Baggage_handlingacceptable               \n",
       "Baggage_handlingexcellent             ***\n",
       "Baggage_handlinggood                  *  \n",
       "Baggage_handlingneed improvement         \n",
       "Baggage_handlingpoor                     \n",
       "CustomerTypedisloyal Customer         ***\n",
       "CustomerTypeLoyal Customer            ***\n",
       "Age                                   ***\n",
       "Travel_Distance                       ** \n",
       "DepartureDelay_in_Mins                ***\n",
       "---\n",
       "Signif. codes:  0 ‘***’ 0.001 ‘**’ 0.01 ‘*’ 0.05 ‘.’ 0.1 ‘ ’ 1\n",
       "\n",
       "(Dispersion parameter for binomial family taken to be 1)\n",
       "\n",
       "    Null deviance: 129475  on 93988  degrees of freedom\n",
       "Residual deviance:  71414  on 93966  degrees of freedom\n",
       "AIC: 71460\n",
       "\n",
       "Number of Fisher Scoring iterations: 10\n"
      ]
     },
     "metadata": {},
     "output_type": "display_data"
    }
   ],
   "source": [
    "full_model <- glm(Overall_Experience ~ Onboard_entertainment + Onlinebooking_Ease + Baggage_handling + CustomerType + Age + Travel_Distance + DepartureDelay_in_Mins, data = full_complete, family = binomial())\n",
    "summary(full_model)"
   ]
  },
  {
   "cell_type": "markdown",
   "id": "fee77b63-928b-4081-a833-3a657870f5c4",
   "metadata": {},
   "source": [
    "Our categorical variables have various levels. It seems difficult to understand which global predictors are essential."
   ]
  },
  {
   "cell_type": "markdown",
   "id": "d6e46032-7305-41c7-826a-66a84d280330",
   "metadata": {},
   "source": [
    "### Model Selection using Lasso, AIC and Backward Selection"
   ]
  },
  {
   "cell_type": "markdown",
   "id": "bbed2bdf-2d7d-4e9f-bb15-2a1dcf272813",
   "metadata": {},
   "source": [
    "We'll fit a Lasso regression, and gradually increase the strength of the regularization parameter. This way, we'll attempt to visualize more significant parameters."
   ]
  },
  {
   "cell_type": "code",
   "execution_count": 24,
   "id": "38280f89-f55a-4ce1-aa2c-e38a9601cb4b",
   "metadata": {},
   "outputs": [
    {
     "data": {
      "text/plain": [
       "24 x 1 sparse Matrix of class \"dgCMatrix\"\n",
       "                                                s1\n",
       "(Intercept)                            0.088100967\n",
       "Onboard_entertainment                  .          \n",
       "Onboard_entertainmentacceptable       -1.674902229\n",
       "Onboard_entertainmentexcellent         2.181797525\n",
       "Onboard_entertainmentextremely poor    0.433887323\n",
       "Onboard_entertainmentgood              0.292962353\n",
       "Onboard_entertainmentneed improvement -1.747612091\n",
       "Onboard_entertainmentpoor             -1.485675173\n",
       "Onlinebooking_Easeacceptable           .          \n",
       "Onlinebooking_Easeexcellent            0.766934408\n",
       "Onlinebooking_Easeextremely poor       .          \n",
       "Onlinebooking_Easegood                 0.867598163\n",
       "Onlinebooking_Easeneed improvement    -0.331090251\n",
       "Onlinebooking_Easepoor                -0.923401067\n",
       "Baggage_handlingacceptable            -0.623110349\n",
       "Baggage_handlingexcellent              0.648756855\n",
       "Baggage_handlinggood                   0.039625096\n",
       "Baggage_handlingneed improvement      -0.196384595\n",
       "Baggage_handlingpoor                  -0.037479102\n",
       "CustomerTypedisloyal Customer         -0.972206758\n",
       "CustomerTypeLoyal Customer             0.187027309\n",
       "Age                                    0.002356687\n",
       "Travel_Distance                        .          \n",
       "DepartureDelay_in_Mins                -0.003143383"
      ]
     },
     "metadata": {},
     "output_type": "display_data"
    },
    {
     "data": {
      "image/png": "[encoded data removed]",
      "text/plain": [
       "plot without title"
      ]
     },
     "metadata": {
      "image/png": {
       "height": 420,
       "width": 420
      }
     },
     "output_type": "display_data"
    }
   ],
   "source": [
    "# Lasso Regression\n",
    "x <- model.matrix(Overall_Experience ~ Onboard_entertainment + Onlinebooking_Ease + Baggage_handling + CustomerType + Age + Travel_Distance + DepartureDelay_in_Mins - 1, data=full_complete)\n",
    "y <- full_complete$Overall_Experience\n",
    "\n",
    "cv_fit <- cv.glmnet(x, y, family=\"binomial\", alpha=1)\n",
    "plot(cv_fit)\n",
    "coef(cv_fit, s=\"lambda.1se\")"
   ]
  },
  {
   "cell_type": "markdown",
   "id": "4c866005-36bd-42e4-a32c-b863762b9292",
   "metadata": {},
   "source": [
    "We already observe `Travel_Distance` being forced to zero. We'll increase the strength parameter a bit further to observe its effects."
   ]
  },
  {
   "cell_type": "code",
   "execution_count": 25,
   "id": "3e1ee54f-b0d1-40f9-9c39-87940ce0249a",
   "metadata": {},
   "outputs": [
    {
     "data": {
      "text/plain": [
       "24 x 1 sparse Matrix of class \"dgCMatrix\"\n",
       "                                              s1\n",
       "(Intercept)                           -0.2817019\n",
       "Onboard_entertainment                  .        \n",
       "Onboard_entertainmentacceptable       -0.7193269\n",
       "Onboard_entertainmentexcellent         2.0032472\n",
       "Onboard_entertainmentextremely poor    .        \n",
       "Onboard_entertainmentgood              0.7006682\n",
       "Onboard_entertainmentneed improvement -0.7581119\n",
       "Onboard_entertainmentpoor             -0.4145802\n",
       "Onlinebooking_Easeacceptable           .        \n",
       "Onlinebooking_Easeexcellent            0.4512165\n",
       "Onlinebooking_Easeextremely poor       .        \n",
       "Onlinebooking_Easegood                 0.5478915\n",
       "Onlinebooking_Easeneed improvement    -0.1118917\n",
       "Onlinebooking_Easepoor                -0.4348406\n",
       "Baggage_handlingacceptable            -0.2683590\n",
       "Baggage_handlingexcellent              0.3613980\n",
       "Baggage_handlinggood                   .        \n",
       "Baggage_handlingneed improvement       .        \n",
       "Baggage_handlingpoor                   .        \n",
       "CustomerTypedisloyal Customer         -0.6373816\n",
       "CustomerTypeLoyal Customer             .        \n",
       "Age                                    .        \n",
       "Travel_Distance                        .        \n",
       "DepartureDelay_in_Mins                 .        "
      ]
     },
     "metadata": {},
     "output_type": "display_data"
    }
   ],
   "source": [
    "incremented_lambda <- cv_fit$lambda.1se + 0.03\n",
    "coef(cv_fit, s=incremented_lambda)"
   ]
  },
  {
   "cell_type": "markdown",
   "id": "86e75e10-90c2-4fec-96c5-bd3f7eac8d05",
   "metadata": {},
   "source": [
    "Now we observe `Age` and `DepartureDelay_in_Mins` parameters to also have null coefficients, along with `Travel_Distance`. We can remove these from our analysis too.\n",
    "\n",
    "We can also observe some critical information over here. For example, `Onboard_entertainmentexcellent` has the highest postitive regeression coefficient of 2.0032472. With a targeted strategic approach, Shinkansen trains maintenance team can work to ensure better onboard entertainment experience of its passengers to significantly improve their `Overall_Experience`."
   ]
  },
  {
   "cell_type": "markdown",
   "id": "06006f86-b498-4d74-8dfd-342bf853953f",
   "metadata": {},
   "source": [
    "**Note:** We decided to not perform stepwise selection (in any direction) due to the complex nature of our data, and the computational demands of running this algorithm. Instead of performing an exhaustive search and checking for all model combinations (even if redundant), we decided to optimize our search process. \n",
    "\n",
    "Below, we attempt to replicate the stepwise selection process by simulating a function with a simple for loop that fits a logistic regression for some parameters and returns the models AIC values. The catch here is that we only perform this function for a parameter size of 3 predictors since that's what we are interested in. Then, we simply find the model with the lowest AIC value, and its predictor variable combination."
   ]
  },
  {
   "cell_type": "code",
   "execution_count": 26,
   "id": "bf839b2e-abd5-4dc3-84bf-1d86ca1d1b91",
   "metadata": {},
   "outputs": [],
   "source": [
    "predictors <- c(\"Onboard_entertainment\", \"Onlinebooking_Ease\", \"Baggage_handling\", \n",
    "                \"CustomerType\")\n",
    "combinations <- combn(predictors, 3)\n",
    "\n",
    "aic_values <- sapply(1:ncol(combinations), function(i) {\n",
    "  formula_str <- paste(\"Overall_Experience ~\", paste(combinations[, i], collapse = \" + \"))\n",
    "  formula <- as.formula(formula_str)\n",
    "  model <- glm(formula, data = full_complete, family = \"binomial\")\n",
    "  AIC(model)\n",
    "})"
   ]
  },
  {
   "cell_type": "code",
   "execution_count": 27,
   "id": "e69926a3-4690-48ab-9ab5-6e2cc5d45242",
   "metadata": {},
   "outputs": [],
   "source": [
    "# Find the index of the combination with the lowest AIC\n",
    "best_model_index <- which.min(aic_values)"
   ]
  },
  {
   "cell_type": "code",
   "execution_count": 28,
   "id": "8d082995-d4be-4749-ac6f-4fc00e4db024",
   "metadata": {},
   "outputs": [
    {
     "data": {
      "text/html": [
       "<style>\n",
       ".list-inline {list-style: none; margin:0; padding: 0}\n",
       ".list-inline>li {display: inline-block}\n",
       ".list-inline>li:not(:last-child)::after {content: \"\\00b7\"; padding: 0 .5ex}\n",
       "</style>\n",
       "<ol class=list-inline><li>'Onboard_entertainment'</li><li>'Onlinebooking_Ease'</li><li>'CustomerType'</li></ol>\n"
      ],
      "text/latex": [
       "\\begin{enumerate*}\n",
       "\\item 'Onboard\\_entertainment'\n",
       "\\item 'Onlinebooking\\_Ease'\n",
       "\\item 'CustomerType'\n",
       "\\end{enumerate*}\n"
      ],
      "text/markdown": [
       "1. 'Onboard_entertainment'\n",
       "2. 'Onlinebooking_Ease'\n",
       "3. 'CustomerType'\n",
       "\n",
       "\n"
      ],
      "text/plain": [
       "[1] \"Onboard_entertainment\" \"Onlinebooking_Ease\"    \"CustomerType\"         "
      ]
     },
     "metadata": {},
     "output_type": "display_data"
    }
   ],
   "source": [
    "best_combination <- combinations[, best_model_index]\n",
    "best_combination"
   ]
  },
  {
   "cell_type": "code",
   "execution_count": null,
   "id": "847c3247-f534-4bab-97d5-38701e010c45",
   "metadata": {},
   "outputs": [],
   "source": []
  }
 ],
 "metadata": {
  "kernelspec": {
   "display_name": "R",
   "language": "R",
   "name": "ir"
  },
  "language_info": {
   "codemirror_mode": "r",
   "file_extension": ".r",
   "mimetype": "text/x-r-source",
   "name": "R",
   "pygments_lexer": "r",
   "version": "4.3.1"
  }
 },
 "nbformat": 4,
 "nbformat_minor": 5
}
