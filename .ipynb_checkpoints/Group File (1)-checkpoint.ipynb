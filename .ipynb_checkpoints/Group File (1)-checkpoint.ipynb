{
 "cells": [
  {
   "cell_type": "markdown",
   "id": "c3d79bd8",
   "metadata": {},
   "source": [
    "---\n",
    "title: \"Group Project\"\n",
    "output: pdf_document\n",
    "date: \"2024-03-29\"\n",
    "---\n",
    "\n",
    "# Data Processing"
   ]
  },
  {
   "cell_type": "code",
   "execution_count": null,
   "id": "5cd37b26",
   "metadata": {},
   "outputs": [],
   "source": [
    "travel <- read.csv(\"TravelTrain.csv\", header=T, sep=\",\")\n",
    "survey <- read.csv(\"SurveyTrain.csv\", header=T, sep=\",\")\n",
    "full <- merge(survey,travel,by.x=\"ID\",by.y=\"ID\")\n",
    "nonfactors = c(\"ID\", \"Age\", \"Travel_Distance\", \"DepartureDelay_in_Mins\", \"ArrivalDelay_in_Mins\")\n",
    "factors = -which(names(full) %in% nonfactors)\n",
    "full[, factors] = lapply(full[, factors], as.factor)\n",
    "head(full)"
   ]
  },
  {
   "cell_type": "code",
   "execution_count": null,
   "id": "cf486b2c-2080-454f-b5a9-d54c38dee574",
   "metadata": {},
   "outputs": [],
   "source": [
    "num_rows_with_na <- sum(apply(full, 1, function(row) any(is.na(row))))\n",
    "num_rows_with_na"
   ]
  },
  {
   "cell_type": "code",
   "execution_count": null,
   "id": "ca876ce0-b2fa-4b3f-bf39-ce3b8b38a2b4",
   "metadata": {},
   "outputs": [],
   "source": [
    "full_complete <- na.omit(full)\n",
    "head(full_complete)"
   ]
  },
  {
   "cell_type": "code",
   "execution_count": null,
   "id": "a457d8fb-f8f1-4aa9-9add-0293dc531fca",
   "metadata": {},
   "outputs": [],
   "source": [
    "num_rows_with_na <- sum(apply(full_complete, 1, function(row) any(is.na(row))))\n",
    "num_rows_with_na"
   ]
  },
  {
   "cell_type": "code",
   "execution_count": null,
   "id": "7b4be2b0-2d32-4a0b-9dca-70608cebbbad",
   "metadata": {},
   "outputs": [],
   "source": [
    "full_complete <- full_complete[ , !(names(full_complete) %in% c(\"ID\"))]\n",
    "head(full_complete)"
   ]
  },
  {
   "cell_type": "markdown",
   "id": "bbc4c021-313c-4263-82e3-c3bce78176eb",
   "metadata": {},
   "source": [
    "# Feature Selection\n",
    "\n",
    "Our model involves 25 variables (including categorical and continous variables). Of which, the categorical variables involve 5-7 different levels of categories. Our overall data, after processing, involves over 90000 rows. This makes our model significantly complex. \n",
    "\n",
    "Therefore, we'll first conduct feature selection to reduce model complexity."
   ]
  },
  {
   "cell_type": "code",
   "execution_count": null,
   "id": "a5831f32-0450-49ce-a185-8a4125711edc",
   "metadata": {},
   "outputs": [],
   "source": [
    "set.seed(123) # For reproducibility\n",
    "sample_frac <- 0.1\n",
    "full_sampled <- full_complete[sample(nrow(full_complete), size = floor(nrow(full_complete) * sample_frac)), ]"
   ]
  },
  {
   "cell_type": "code",
   "execution_count": null,
   "id": "b7e8802e-a028-47e2-bd7f-83fad9d2a2c0",
   "metadata": {},
   "outputs": [],
   "source": [
    "full_sampled"
   ]
  },
  {
   "cell_type": "code",
   "execution_count": null,
   "id": "0f5322f0-a910-4718-a049-bc902da63d31",
   "metadata": {},
   "outputs": [],
   "source": [
    "# Function to calculate Chi-squared test and Cramér's V for all pairs of categorical variables\n",
    "association_test <- function(data) {\n",
    "  cat_vars <- sapply(data, is.factor)  # Identify categorical variables\n",
    "  cat_combinations <- combn(names(cat_vars)[cat_vars], 2)  # Get all combinations of categorical variables\n",
    "  \n",
    "  # Initialize an empty data frame to store the results\n",
    "  results <- data.frame(Var1 = character(), Var2 = character(), Chi_Squared = numeric(), P_Value = numeric(), Cramers_V = numeric(), stringsAsFactors = FALSE)\n",
    "  \n",
    "  # Loop over all combinations\n",
    "  for(i in 1:ncol(cat_combinations)) {\n",
    "    var1 <- cat_combinations[1, i]\n",
    "    var2 <- cat_combinations[2, i]\n",
    "    \n",
    "    # Create contingency table\n",
    "    table <- table(data[[var1]], data[[var2]])\n",
    "    \n",
    "    # Perform the Chi-squared test\n",
    "    test <- tryCatch(chisq.test(table), error = function(e) return(e))\n",
    "    \n",
    "    # If the test was successful, calculate Cramér's V\n",
    "    if(!inherits(test, \"error\")) {\n",
    "      v <- sqrt(test$statistic / (sum(table) * (min(nrow(table), ncol(table)) - 1)))\n",
    "    } else {\n",
    "      v <- NA  # Set to NA if the test failed\n",
    "    }\n",
    "    \n",
    "    # Append the results to the results data frame\n",
    "    results <- rbind(results, data.frame(Var1 = var1, Var2 = var2, Chi_Squared = if(!is.na(v)) test$statistic else NA, P_Value = if(!is.na(v)) test$p.value else NA, Cramers_V = v))\n",
    "  }\n",
    "  \n",
    "  return(results)\n",
    "}\n",
    "\n",
    "# Run the function on your dataset (replace 'your_data_frame' with the name of your actual data frame)\n",
    "association_results <- association_test(full_sampled)"
   ]
  },
  {
   "cell_type": "code",
   "execution_count": null,
   "id": "e0f73344-f353-48de-b6b7-9b5b508fd3e6",
   "metadata": {},
   "outputs": [],
   "source": [
    "association_results"
   ]
  },
  {
   "cell_type": "code",
   "execution_count": null,
   "id": "05ee02f4-9f8a-4e38-9de6-e02ea7ab8f7c",
   "metadata": {},
   "outputs": [],
   "source": [
    "association_results <- association_results[!is.nan(association_results$Cramers_V) & association_results$Cramers_V >= 0.25, ]\n",
    "association_results"
   ]
  },
  {
   "cell_type": "code",
   "execution_count": null,
   "id": "322ca98e-5589-455e-a521-545956a4257c",
   "metadata": {},
   "outputs": [],
   "source": [
    "numerical_data <- full_sampled[c(\"Age\", \"Travel_Distance\", \"DepartureDelay_in_Mins\", \"ArrivalDelay_in_Mins\")]\n",
    "correlation_matrix <- cor(numerical_data, use=\"complete.obs\")  # use=\"complete.obs\" to handle missing values\n",
    "correlation_matrix"
   ]
  },
  {
   "cell_type": "markdown",
   "id": "02238409-8507-4feb-9338-2680c4d0a052",
   "metadata": {},
   "source": [
    "# Model Selection and Model Fitting"
   ]
  },
  {
   "cell_type": "markdown",
   "id": "52ae062d-2904-4ff2-9700-1625a8d29486",
   "metadata": {},
   "source": [
    "### Fitting a Logistic Regression Model - DO NOT RUN BEFORE SETING UP THE GLM MODEL WITH THE DECIDED PREDICTOR VARIABLES"
   ]
  },
  {
   "cell_type": "code",
   "execution_count": null,
   "id": "7514eda4-87ea-464c-be6f-d57eacd9ed0a",
   "metadata": {},
   "outputs": [],
   "source": [
    "# Setup model with the decided predictor variables\n",
    "full_model <- glm(Overall_Experience ~ ., data = full_complete, family = \"binomial\")\n",
    "summary(full_model)"
   ]
  },
  {
   "cell_type": "code",
   "execution_count": null,
   "id": "96b4e65a-cb56-433f-8ce3-b6777a9d9585",
   "metadata": {},
   "outputs": [],
   "source": [
    "exp(coef(full_model))"
   ]
  },
  {
   "cell_type": "markdown",
   "id": "d6e46032-7305-41c7-826a-66a84d280330",
   "metadata": {},
   "source": [
    "### Model Selection using AIC and Forward Selection"
   ]
  },
  {
   "cell_type": "code",
   "execution_count": null,
   "id": "67269c73-45c8-4b71-a79e-615de5258496",
   "metadata": {},
   "outputs": [],
   "source": [
    "install.packages(\"MASS\")\n",
    "library(MASS)"
   ]
  },
  {
   "cell_type": "code",
   "execution_count": null,
   "id": "3b444270-6b7d-4a8a-8dc8-03fcfb168a50",
   "metadata": {},
   "outputs": [],
   "source": [
    "stepwise_model <- stepAIC(full_model, direction = \"both\")\n",
    "summary(stepwise_model)"
   ]
  },
  {
   "cell_type": "markdown",
   "id": "8a380cb8-d525-49ee-b91b-4dd0ca891b16",
   "metadata": {},
   "source": [
    "Let's regularize the model since we have too many predictors."
   ]
  },
  {
   "cell_type": "code",
   "execution_count": null,
   "id": "f1c1061f-3bfc-4495-9e50-c40fbda2878a",
   "metadata": {},
   "outputs": [],
   "source": [
    "AIC(full_model, stepwise_model, k = 2)  # k = 2 is the default for AIC"
   ]
  },
  {
   "cell_type": "code",
   "execution_count": null,
   "id": "3173dff5-7011-42de-89d0-8cdc5a319ee6",
   "metadata": {},
   "outputs": [],
   "source": [
    "# Check for potential interactions between categorical variables\n",
    "# Here's an example of adding an interaction term between two variables\n",
    "interaction_model <- glm(Overall_Experience ~ . + factor1 * factor2, data = full, family = binomial())\n",
    "\n",
    "# Compare the AIC of the interaction model with the previous models\n",
    "AIC(full_model, stepwise_model, interaction_model, k = 2)"
   ]
  },
  {
   "cell_type": "markdown",
   "id": "39cde0b9-5655-4b86-ab4e-4edeeaea65dd",
   "metadata": {},
   "source": [
    "### Model Analysis"
   ]
  },
  {
   "cell_type": "code",
   "execution_count": null,
   "id": "3a7d3f77-2b01-4150-a255-75f6771dc0ab",
   "metadata": {},
   "outputs": [],
   "source": [
    "par(mfrow = c(2, 2))\n",
    "plot(stepwise_model)"
   ]
  },
  {
   "cell_type": "markdown",
   "id": "ed4349b7-9ccc-4b22-ace0-f21fd36b1a29",
   "metadata": {},
   "source": [
    "### Cross-Validation"
   ]
  },
  {
   "cell_type": "code",
   "execution_count": null,
   "id": "3d40b3e1-c3d9-4754-81dd-a8dde7d5de0b",
   "metadata": {},
   "outputs": [],
   "source": [
    "install.packages(\"caret\")\n",
    "library(caret)"
   ]
  },
  {
   "cell_type": "code",
   "execution_count": null,
   "id": "346823f2-f678-4453-a905-d6932cc69323",
   "metadata": {},
   "outputs": [],
   "source": [
    "control <- trainControl(method = \"cv\", number = 10)\n",
    "cv_model <- train(Overall_Experience ~ ., data = full_complete, method = \"glm\", trControl = control, family = \"binomial\")\n",
    "\n",
    "print(cv_model)"
   ]
  },
  {
   "cell_type": "code",
   "execution_count": null,
   "id": "7baeeba0-9d15-4560-853c-bbead8b29f4c",
   "metadata": {},
   "outputs": [],
   "source": [
    "summary(stepwise_model)"
   ]
  },
  {
   "cell_type": "code",
   "execution_count": null,
   "id": "ef573c6e-b9c3-4b64-8574-b827999b81a5",
   "metadata": {},
   "outputs": [],
   "source": [
    "exp(coef(stepwise_model))"
   ]
  },
  {
   "cell_type": "code",
   "execution_count": null,
   "id": "484813bc-253a-4176-833d-aa8c07c81d53",
   "metadata": {},
   "outputs": [],
   "source": [
    "exp(confint(stepwise_model))"
   ]
  }
 ],
 "metadata": {
  "kernelspec": {
   "display_name": "R",
   "language": "R",
   "name": "ir"
  },
  "language_info": {
   "codemirror_mode": "r",
   "file_extension": ".r",
   "mimetype": "text/x-r-source",
   "name": "R",
   "pygments_lexer": "r",
   "version": "4.3.1"
  }
 },
 "nbformat": 4,
 "nbformat_minor": 5
}
